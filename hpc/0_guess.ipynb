{
 "cells": [
  {
   "cell_type": "code",
   "execution_count": 8,
   "metadata": {},
   "outputs": [],
   "source": [
    "import numpy as np\n",
    "from utils.evaluation import MNNPC\n",
    "import torch"
   ]
  },
  {
   "cell_type": "code",
   "execution_count": 7,
   "metadata": {},
   "outputs": [
    {
     "data": {
      "text/plain": [
       "(9841, 39548)"
      ]
     },
     "execution_count": 7,
     "metadata": {},
     "output_type": "execute_result"
    }
   ],
   "source": [
    "# Load data\n",
    "# lh = np.load(\"/data/algonauts/subj01/training_split/training_fmri/lh_training_fmri.npy\")\n",
    "# rh = np.load(\"/data/algonauts/subj01/training_split//trainig_fmri/rh_training_fmri.npy\")\n",
    "lh = np.load(r\"C:\\Users\\frbre\\OneDrive\\01 Dokumenter\\01 Uni\\01 Advanced Machine Learning\\aml_project_2023\\data\\algonauts\\subj01\\training_split\\training_fmri\\lh_training_fmri.npy\")\n",
    "rh = np.load(r\"C:\\Users\\frbre\\OneDrive\\01 Dokumenter\\01 Uni\\01 Advanced Machine Learning\\aml_project_2023\\data\\algonauts\\subj01\\training_split\\training_fmri\\rh_training_fmri.npy\")\n",
    "brain = np.concatenate((lh, rh), axis=1)\n",
    "del lh, rh\n",
    "brain.shape"
   ]
  },
  {
   "cell_type": "code",
   "execution_count": 15,
   "metadata": {},
   "outputs": [],
   "source": [
    "gt = torch.from_numpy(brain)"
   ]
  },
  {
   "cell_type": "code",
   "execution_count": 11,
   "metadata": {},
   "outputs": [],
   "source": [
    "# Create 0 guesses\n",
    "guess = torch.zeros_like(torch.from_numpy(brain))"
   ]
  },
  {
   "cell_type": "code",
   "execution_count": 13,
   "metadata": {},
   "outputs": [],
   "source": [
    "preds = guess.numpy()"
   ]
  },
  {
   "cell_type": "code",
   "execution_count": 17,
   "metadata": {},
   "outputs": [
    {
     "data": {
      "text/plain": [
       "tensor(0.5000)"
      ]
     },
     "execution_count": 17,
     "metadata": {},
     "output_type": "execute_result"
    }
   ],
   "source": [
    "mnnpc = MNNPC()\n",
    "mnnpc(pred = guess, gt=gt)"
   ]
  },
  {
   "cell_type": "code",
   "execution_count": null,
   "metadata": {},
   "outputs": [],
   "source": []
  }
 ],
 "metadata": {
  "kernelspec": {
   "display_name": "aml_project",
   "language": "python",
   "name": "python3"
  },
  "language_info": {
   "codemirror_mode": {
    "name": "ipython",
    "version": 3
   },
   "file_extension": ".py",
   "mimetype": "text/x-python",
   "name": "python",
   "nbconvert_exporter": "python",
   "pygments_lexer": "ipython3",
   "version": "3.10.4"
  }
 },
 "nbformat": 4,
 "nbformat_minor": 2
}
