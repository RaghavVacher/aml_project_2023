{
 "cells": [
  {
   "cell_type": "markdown",
   "metadata": {},
   "source": [
    "## Add utils as a module"
   ]
  },
  {
   "cell_type": "code",
   "execution_count": 18,
   "metadata": {},
   "outputs": [],
   "source": [
    "import sys\n",
    "\n",
    "if '../utils' not in sys.path:\n",
    "    sys.path.append('../utils')\n",
    "if '../' not in sys.path:\n",
    "    sys.path.append('../')\n",
    "\n",
    "# create an __init__.py folder in the utils folder if you haven't already\n",
    "from utils import data_loading"
   ]
  },
  {
   "cell_type": "markdown",
   "metadata": {},
   "source": [
    "# Loading libraries"
   ]
  },
  {
   "cell_type": "code",
   "execution_count": 2,
   "metadata": {},
   "outputs": [],
   "source": [
    "# import os\n",
    "# import numpy as np\n",
    "# from pathlib import Path\n",
    "# from PIL import Image'\n",
    "# from tqdm import tqdm\n",
    "# import matplotlib\n",
    "# from matplotlib import pyplot as plt\n",
    "# from nilearn import datasets\n",
    "# from nilearn import plotting\n",
    "# import torch\n",
    "# from torch.utils.data import DataLoader, Dataset\n",
    "# from torchvision.models.feature_extraction import create_feature_extractor, get_graph_node_names\n",
    "# from torchvision import transforms\n",
    "# from sklearn.decomposition import IncrementalPCA\n",
    "# from sklearn.linear_model import LinearRegression\n",
    "# from scipy.stats import pearsonr as corr"
   ]
  },
  {
   "cell_type": "markdown",
   "metadata": {},
   "source": [
    "# Loading Data"
   ]
  },
  {
   "cell_type": "code",
   "execution_count": 17,
   "metadata": {},
   "outputs": [
    {
     "name": "stdout",
     "output_type": "stream",
     "text": [
      "(10, 19004)\n",
      "(3, 425, 425)\n"
     ]
    }
   ],
   "source": [
    "#loading data for subject 1, first 10 images\n",
    "lh, rh, images  = data_loading.load(1, 0, 10)\n",
    "\n",
    "print(lh.shape)\n",
    "print(images[0].shape)"
   ]
  },
  {
   "cell_type": "code",
   "execution_count": null,
   "metadata": {},
   "outputs": [],
   "source": []
  }
 ],
 "metadata": {
  "kernelspec": {
   "display_name": "aml_project",
   "language": "python",
   "name": "python3"
  },
  "language_info": {
   "codemirror_mode": {
    "name": "ipython",
    "version": 3
   },
   "file_extension": ".py",
   "mimetype": "text/x-python",
   "name": "python",
   "nbconvert_exporter": "python",
   "pygments_lexer": "ipython3",
   "version": "3.9.12"
  }
 },
 "nbformat": 4,
 "nbformat_minor": 2
}
