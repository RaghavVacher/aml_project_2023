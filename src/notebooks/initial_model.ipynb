{
 "cells": [
  {
   "cell_type": "markdown",
   "metadata": {},
   "source": [
    "## Add utils as a module"
   ]
  },
  {
   "cell_type": "code",
   "execution_count": 10,
   "metadata": {},
   "outputs": [
    {
     "ename": "ModuleNotFoundError",
     "evalue": "No module named 'utils'",
     "output_type": "error",
     "traceback": [
      "\u001b[0;31m---------------------------------------------------------------------------\u001b[0m",
      "\u001b[0;31mModuleNotFoundError\u001b[0m                       Traceback (most recent call last)",
      "\u001b[1;32m/Users/emilykruger/Documents/GitHub/aml_project_2023/src/notebooks/initial_model.ipynb Cell 2\u001b[0m line \u001b[0;36m3\n\u001b[1;32m      <a href='vscode-notebook-cell:/Users/emilykruger/Documents/GitHub/aml_project_2023/src/notebooks/initial_model.ipynb#W1sZmlsZQ%3D%3D?line=0'>1</a>\u001b[0m \u001b[39mimport\u001b[39;00m \u001b[39msys\u001b[39;00m\n\u001b[1;32m      <a href='vscode-notebook-cell:/Users/emilykruger/Documents/GitHub/aml_project_2023/src/notebooks/initial_model.ipynb#W1sZmlsZQ%3D%3D?line=1'>2</a>\u001b[0m sys\u001b[39m.\u001b[39mpath\u001b[39m.\u001b[39mappend(\u001b[39m'\u001b[39m\u001b[39m../utils\u001b[39m\u001b[39m'\u001b[39m)\n\u001b[0;32m----> <a href='vscode-notebook-cell:/Users/emilykruger/Documents/GitHub/aml_project_2023/src/notebooks/initial_model.ipynb#W1sZmlsZQ%3D%3D?line=2'>3</a>\u001b[0m \u001b[39mfrom\u001b[39;00m \u001b[39mutils\u001b[39;00m \u001b[39mimport\u001b[39;00m data_loading\n",
      "\u001b[0;31mModuleNotFoundError\u001b[0m: No module named 'utils'"
     ]
    }
   ],
   "source": [
    "import sys\n",
    "#just use whichever one is working\n",
    "#sys.path.append('../utils')\n",
    "sys.path.append('../')\n",
    "from utils import data_loading"
   ]
  },
  {
   "cell_type": "markdown",
   "metadata": {},
   "source": [
    "# Loading libraries"
   ]
  },
  {
   "cell_type": "code",
   "execution_count": 2,
   "metadata": {},
   "outputs": [],
   "source": [
    "# import os\n",
    "# import numpy as np\n",
    "# from pathlib import Path\n",
    "# from PIL import Image'\n",
    "# from tqdm import tqdm\n",
    "# import matplotlib\n",
    "# from matplotlib import pyplot as plt\n",
    "# from nilearn import datasets\n",
    "# from nilearn import plotting\n",
    "# import torch\n",
    "# from torch.utils.data import DataLoader, Dataset\n",
    "# from torchvision.models.feature_extraction import create_feature_extractor, get_graph_node_names\n",
    "# from torchvision import transforms\n",
    "# from sklearn.decomposition import IncrementalPCA\n",
    "# from sklearn.linear_model import LinearRegression\n",
    "# from scipy.stats import pearsonr as corr"
   ]
  },
  {
   "cell_type": "markdown",
   "metadata": {},
   "source": [
    "# Loading Data"
   ]
  },
  {
   "cell_type": "code",
   "execution_count": null,
   "metadata": {},
   "outputs": [],
   "source": [
    "#loading data for subject 1, first 10 images\n",
    "lh, rh, images  = data_loading.load(1, 0, 10)\n",
    "# shape of lh\n",
    "print(lh.shape)\n",
    "images[0].shape"
   ]
  }
 ],
 "metadata": {
  "kernelspec": {
   "display_name": "aml_project",
   "language": "python",
   "name": "python3"
  },
  "language_info": {
   "codemirror_mode": {
    "name": "ipython",
    "version": 3
   },
   "file_extension": ".py",
   "mimetype": "text/x-python",
   "name": "python",
   "nbconvert_exporter": "python",
   "pygments_lexer": "ipython3",
   "version": "3.9.12"
  }
 },
 "nbformat": 4,
 "nbformat_minor": 2
}
