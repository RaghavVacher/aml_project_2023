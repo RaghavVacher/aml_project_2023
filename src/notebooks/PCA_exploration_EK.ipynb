{
 "cells": [
  {
   "cell_type": "markdown",
   "metadata": {},
   "source": [
    "# PCA Exploration"
   ]
  },
  {
   "cell_type": "markdown",
   "metadata": {},
   "source": [
    "## Lit Review - hosseinadeli submission (Fred)\n",
    "\n",
    "- 100 components - why? who knows"
   ]
  },
  {
   "cell_type": "markdown",
   "metadata": {},
   "source": [
    "## Computing"
   ]
  },
  {
   "cell_type": "code",
   "execution_count": 1,
   "metadata": {},
   "outputs": [],
   "source": [
    "from sklearn.decomposition import PCA\n",
    "import matplotlib.pyplot as plt\n",
    "import numpy as np\n",
    "import pandas as pd"
   ]
  },
  {
   "cell_type": "code",
   "execution_count": 2,
   "metadata": {},
   "outputs": [],
   "source": [
    "import sys\n",
    "    \n",
    "try:\n",
    "    from utils import data_loading\n",
    "except:\n",
    "    sys.path.append('../utils')\n",
    "    sys.path.append('../')\n",
    "    from utils import data_loading"
   ]
  },
  {
   "cell_type": "markdown",
   "metadata": {},
   "source": [
    "### Testing for subj1 for one hemisphere"
   ]
  },
  {
   "cell_type": "code",
   "execution_count": 3,
   "metadata": {},
   "outputs": [
    {
     "name": "stdout",
     "output_type": "stream",
     "text": [
      "LH shape: (9841, 19004)\n",
      "RH Shape: (9841, 20544)\n"
     ]
    }
   ],
   "source": [
    "#load data for subj1\n",
    "data_lh = np.load('../../data/algonauts/subj01/training_split/training_fmri/lh_training_fmri.npy')\n",
    "data_rh = np.load('../../data/algonauts/subj01/training_split/training_fmri/rh_training_fmri.npy')\n",
    "print(f'LH shape: {data_lh.shape}\\nRH Shape: {data_rh.shape}')"
   ]
  },
  {
   "cell_type": "code",
   "execution_count": 4,
   "metadata": {},
   "outputs": [],
   "source": [
    "# #exploratory PCA for right hemisphere\n",
    "# pca = PCA(n_components=9841) # n_components must be between min(n_smaples, n_features), hence 9841\n",
    "# pca.fit(data_rh)"
   ]
  },
  {
   "cell_type": "code",
   "execution_count": 5,
   "metadata": {},
   "outputs": [],
   "source": [
    "# # plot the cumulative explained variance as a function of the number of components\n",
    "# plt.plot(np.cumsum(pca.explained_variance_ratio_))\n",
    "# plt.xlabel('Number of Components')\n",
    "# plt.ylabel('Cumulative Explained Variance')\n",
    "# plt.show()"
   ]
  },
  {
   "cell_type": "code",
   "execution_count": 6,
   "metadata": {},
   "outputs": [],
   "source": [
    "# #same plot but zoomed in on num_components 0-2000\n",
    "# plt.plot(np.cumsum(pca.explained_variance_ratio_))\n",
    "# plt.xlabel('Number of Components')\n",
    "# plt.xlim(0, 2000)\n",
    "# plt.ylabel('Cumulative Explained Variance')\n",
    "# plt.yticks(np.arange(0, 1.05, 0.05))\n",
    "# plt.show()"
   ]
  },
  {
   "cell_type": "code",
   "execution_count": 7,
   "metadata": {},
   "outputs": [],
   "source": [
    "# #get the index of the first component with which me can explain 95% of variance\n",
    "# var = np.cumsum(pca.explained_variance_ratio_)\n",
    "# idx = np.where(var >= .95)[0]\n",
    "# idx[0]"
   ]
  },
  {
   "cell_type": "markdown",
   "metadata": {},
   "source": [
    "### Looping through all subj and both hemispheres seperately"
   ]
  },
  {
   "cell_type": "markdown",
   "metadata": {},
   "source": [
    "    adjust number of components in PCA and index in data loading to adjust for num of frmi images loaded"
   ]
  },
  {
   "cell_type": "code",
   "execution_count": 8,
   "metadata": {},
   "outputs": [
    {
     "data": {
      "text/html": [
       "<div>\n",
       "<style scoped>\n",
       "    .dataframe tbody tr th:only-of-type {\n",
       "        vertical-align: middle;\n",
       "    }\n",
       "\n",
       "    .dataframe tbody tr th {\n",
       "        vertical-align: top;\n",
       "    }\n",
       "\n",
       "    .dataframe thead th {\n",
       "        text-align: right;\n",
       "    }\n",
       "</style>\n",
       "<table border=\"1\" class=\"dataframe\">\n",
       "  <thead>\n",
       "    <tr style=\"text-align: right;\">\n",
       "      <th></th>\n",
       "      <th>Subject</th>\n",
       "      <th>90% Component RH</th>\n",
       "      <th>90% Component LH</th>\n",
       "      <th>95% Component RH</th>\n",
       "      <th>95% Component LH</th>\n",
       "      <th>99% Component RH</th>\n",
       "      <th>99% Component LH</th>\n",
       "      <th>Inverse RSME RH</th>\n",
       "      <th>Inverse RSME LH</th>\n",
       "    </tr>\n",
       "  </thead>\n",
       "  <tbody>\n",
       "    <tr>\n",
       "      <th>0</th>\n",
       "      <td>1</td>\n",
       "      <td>63</td>\n",
       "      <td>63</td>\n",
       "      <td>78</td>\n",
       "      <td>78</td>\n",
       "      <td>94</td>\n",
       "      <td>94</td>\n",
       "      <td>8.855356e-07</td>\n",
       "      <td>8.879699e-07</td>\n",
       "    </tr>\n",
       "    <tr>\n",
       "      <th>1</th>\n",
       "      <td>2</td>\n",
       "      <td>62</td>\n",
       "      <td>64</td>\n",
       "      <td>78</td>\n",
       "      <td>79</td>\n",
       "      <td>94</td>\n",
       "      <td>94</td>\n",
       "      <td>8.991485e-07</td>\n",
       "      <td>8.558903e-07</td>\n",
       "    </tr>\n",
       "    <tr>\n",
       "      <th>2</th>\n",
       "      <td>3</td>\n",
       "      <td>61</td>\n",
       "      <td>63</td>\n",
       "      <td>77</td>\n",
       "      <td>78</td>\n",
       "      <td>94</td>\n",
       "      <td>94</td>\n",
       "      <td>9.927120e-07</td>\n",
       "      <td>8.802039e-07</td>\n",
       "    </tr>\n",
       "    <tr>\n",
       "      <th>3</th>\n",
       "      <td>4</td>\n",
       "      <td>57</td>\n",
       "      <td>59</td>\n",
       "      <td>73</td>\n",
       "      <td>75</td>\n",
       "      <td>92</td>\n",
       "      <td>93</td>\n",
       "      <td>9.527223e-07</td>\n",
       "      <td>9.564656e-07</td>\n",
       "    </tr>\n",
       "    <tr>\n",
       "      <th>4</th>\n",
       "      <td>5</td>\n",
       "      <td>59</td>\n",
       "      <td>58</td>\n",
       "      <td>76</td>\n",
       "      <td>76</td>\n",
       "      <td>93</td>\n",
       "      <td>93</td>\n",
       "      <td>8.946154e-07</td>\n",
       "      <td>9.253939e-07</td>\n",
       "    </tr>\n",
       "    <tr>\n",
       "      <th>5</th>\n",
       "      <td>6</td>\n",
       "      <td>60</td>\n",
       "      <td>62</td>\n",
       "      <td>76</td>\n",
       "      <td>78</td>\n",
       "      <td>93</td>\n",
       "      <td>94</td>\n",
       "      <td>9.167127e-07</td>\n",
       "      <td>9.326218e-07</td>\n",
       "    </tr>\n",
       "    <tr>\n",
       "      <th>6</th>\n",
       "      <td>7</td>\n",
       "      <td>60</td>\n",
       "      <td>60</td>\n",
       "      <td>76</td>\n",
       "      <td>77</td>\n",
       "      <td>93</td>\n",
       "      <td>93</td>\n",
       "      <td>8.810998e-07</td>\n",
       "      <td>9.012742e-07</td>\n",
       "    </tr>\n",
       "    <tr>\n",
       "      <th>7</th>\n",
       "      <td>8</td>\n",
       "      <td>58</td>\n",
       "      <td>59</td>\n",
       "      <td>74</td>\n",
       "      <td>75</td>\n",
       "      <td>92</td>\n",
       "      <td>93</td>\n",
       "      <td>9.260213e-07</td>\n",
       "      <td>9.964625e-07</td>\n",
       "    </tr>\n",
       "  </tbody>\n",
       "</table>\n",
       "</div>"
      ],
      "text/plain": [
       "  Subject  90% Component RH  90% Component LH  95% Component RH  \\\n",
       "0       1                63                63                78   \n",
       "1       2                62                64                78   \n",
       "2       3                61                63                77   \n",
       "3       4                57                59                73   \n",
       "4       5                59                58                76   \n",
       "5       6                60                62                76   \n",
       "6       7                60                60                76   \n",
       "7       8                58                59                74   \n",
       "\n",
       "   95% Component LH  99% Component RH  99% Component LH  Inverse RSME RH  \\\n",
       "0                78                94                94     8.855356e-07   \n",
       "1                79                94                94     8.991485e-07   \n",
       "2                78                94                94     9.927120e-07   \n",
       "3                75                92                93     9.527223e-07   \n",
       "4                76                93                93     8.946154e-07   \n",
       "5                78                93                94     9.167127e-07   \n",
       "6                77                93                93     8.810998e-07   \n",
       "7                75                92                93     9.260213e-07   \n",
       "\n",
       "   Inverse RSME LH  \n",
       "0     8.879699e-07  \n",
       "1     8.558903e-07  \n",
       "2     8.802039e-07  \n",
       "3     9.564656e-07  \n",
       "4     9.253939e-07  \n",
       "5     9.326218e-07  \n",
       "6     9.012742e-07  \n",
       "7     9.964625e-07  "
      ]
     },
     "execution_count": 8,
     "metadata": {},
     "output_type": "execute_result"
    }
   ],
   "source": [
    "#define empty lists to create df later on\n",
    "comp_90_rh = []\n",
    "comp_95_rh = []\n",
    "comp_99_rh = []\n",
    "comp_90_lh = []\n",
    "comp_95_lh = []\n",
    "comp_99_lh = []\n",
    "rmse_rh = []\n",
    "rmse_lh = []\n",
    "subj = []\n",
    "\n",
    "#loop thorugh each subject to perform PCA on each hemisphere separately\n",
    "for subject in range(1,8+1):\n",
    "    subj.append(str(subject))\n",
    "    #load data\n",
    "    path = '../../data/algonauts/subj0' + str(subject)\n",
    "    data_lh = np.load(path + '/training_split/training_fmri/lh_training_fmri.npy')[:100]\n",
    "    data_rh = np.load(path + '/training_split/training_fmri/rh_training_fmri.npy')[:100]\n",
    "\n",
    "    #PCA_rh\n",
    "    pca_rh = PCA(n_components=100)\n",
    "    pca_rh.fit(data_rh)\n",
    "    rh_transform = pca_rh.transform(data_rh)\n",
    "    #PCA_lh\n",
    "    pca_lh = PCA(n_components=100)\n",
    "    pca_lh.fit(data_lh)\n",
    "    lh_transform = pca_lh.transform(data_lh)\n",
    "\n",
    "    #get the index of the first component with which me can explain 95% of variance\n",
    "    ##rh\n",
    "    var_rh = np.cumsum(pca_rh.explained_variance_ratio_)\n",
    "    comp_90_rh.append(np.where(var_rh >= .90)[0][0])\n",
    "    comp_95_rh.append(np.where(var_rh >= .95)[0][0])\n",
    "    comp_99_rh.append(np.where(var_rh >= .99)[0][0])\n",
    "    ##lh\n",
    "    var_lh = np.cumsum(pca_lh.explained_variance_ratio_)\n",
    "    comp_90_lh.append(np.where(var_lh >= .90)[0][0])\n",
    "    comp_95_lh.append(np.where(var_lh >= .95)[0][0])\n",
    "    comp_99_lh.append(np.where(var_lh >= .99)[0][0])\n",
    "\n",
    "    #calculate MSE on inversed data\n",
    "    ##rh\n",
    "    inversed_rh = pca_rh.inverse_transform(rh_transform)\n",
    "    rmse_rh.append(np.sqrt(((data_rh-inversed_rh)**2).mean()))\n",
    "    ##lh\n",
    "    inversed_lh = pca_lh.inverse_transform(lh_transform)\n",
    "    rmse_lh.append(np.sqrt(((data_lh-inversed_lh)**2).mean()))\n",
    "\n",
    "#store results in a df\n",
    "PCA_results_separate = pd.DataFrame({'Subject': subj, '90% Component RH': comp_90_rh, '90% Component LH': comp_90_lh,\n",
    "                           '95% Component RH': comp_95_rh, '95% Component LH': comp_95_lh,\n",
    "                           '99% Component RH': comp_99_rh, '99% Component LH': comp_99_lh,\n",
    "                           'Inverse RSME RH': rmse_rh, 'Inverse RSME LH': rmse_lh})\n",
    "\n",
    "#print results\n",
    "PCA_results_separate"
   ]
  },
  {
   "cell_type": "code",
   "execution_count": 9,
   "metadata": {},
   "outputs": [
    {
     "name": "stdout",
     "output_type": "stream",
     "text": [
      "Number of Components for 90%: 64\n",
      " Number of Components for 95%: 79\n",
      " Number of Components for 99%: 94\n"
     ]
    }
   ],
   "source": [
    "print(f'Number of Components for 90%: {max(comp_90_rh + comp_90_lh)}\\n',\n",
    "    f'Number of Components for 95%: {max(comp_95_rh + comp_95_lh)}\\n',\n",
    "    f'Number of Components for 99%: {max(comp_99_rh + comp_99_lh)}')"
   ]
  },
  {
   "cell_type": "markdown",
   "metadata": {},
   "source": [
    "### Looping through all subj and both hemispheres combined"
   ]
  },
  {
   "cell_type": "markdown",
   "metadata": {},
   "source": [
    "    adjust number of components in PCA and index in data loading to adjust for num of frmi images loaded"
   ]
  },
  {
   "cell_type": "code",
   "execution_count": 11,
   "metadata": {},
   "outputs": [
    {
     "data": {
      "text/html": [
       "<div>\n",
       "<style scoped>\n",
       "    .dataframe tbody tr th:only-of-type {\n",
       "        vertical-align: middle;\n",
       "    }\n",
       "\n",
       "    .dataframe tbody tr th {\n",
       "        vertical-align: top;\n",
       "    }\n",
       "\n",
       "    .dataframe thead th {\n",
       "        text-align: right;\n",
       "    }\n",
       "</style>\n",
       "<table border=\"1\" class=\"dataframe\">\n",
       "  <thead>\n",
       "    <tr style=\"text-align: right;\">\n",
       "      <th></th>\n",
       "      <th>Subject</th>\n",
       "      <th>90% Component</th>\n",
       "      <th>95% Component</th>\n",
       "      <th>99% Component</th>\n",
       "      <th>Inverse RSME</th>\n",
       "    </tr>\n",
       "  </thead>\n",
       "  <tbody>\n",
       "    <tr>\n",
       "      <th>0</th>\n",
       "      <td>1</td>\n",
       "      <td>66</td>\n",
       "      <td>80</td>\n",
       "      <td>94</td>\n",
       "      <td>0.000001</td>\n",
       "    </tr>\n",
       "    <tr>\n",
       "      <th>1</th>\n",
       "      <td>2</td>\n",
       "      <td>66</td>\n",
       "      <td>81</td>\n",
       "      <td>94</td>\n",
       "      <td>0.000001</td>\n",
       "    </tr>\n",
       "    <tr>\n",
       "      <th>2</th>\n",
       "      <td>3</td>\n",
       "      <td>64</td>\n",
       "      <td>79</td>\n",
       "      <td>94</td>\n",
       "      <td>0.000001</td>\n",
       "    </tr>\n",
       "    <tr>\n",
       "      <th>3</th>\n",
       "      <td>4</td>\n",
       "      <td>60</td>\n",
       "      <td>76</td>\n",
       "      <td>93</td>\n",
       "      <td>0.000001</td>\n",
       "    </tr>\n",
       "    <tr>\n",
       "      <th>4</th>\n",
       "      <td>5</td>\n",
       "      <td>62</td>\n",
       "      <td>78</td>\n",
       "      <td>94</td>\n",
       "      <td>0.000001</td>\n",
       "    </tr>\n",
       "    <tr>\n",
       "      <th>5</th>\n",
       "      <td>6</td>\n",
       "      <td>64</td>\n",
       "      <td>79</td>\n",
       "      <td>94</td>\n",
       "      <td>0.000001</td>\n",
       "    </tr>\n",
       "    <tr>\n",
       "      <th>6</th>\n",
       "      <td>7</td>\n",
       "      <td>63</td>\n",
       "      <td>79</td>\n",
       "      <td>94</td>\n",
       "      <td>0.000001</td>\n",
       "    </tr>\n",
       "    <tr>\n",
       "      <th>7</th>\n",
       "      <td>8</td>\n",
       "      <td>61</td>\n",
       "      <td>77</td>\n",
       "      <td>93</td>\n",
       "      <td>0.000001</td>\n",
       "    </tr>\n",
       "  </tbody>\n",
       "</table>\n",
       "</div>"
      ],
      "text/plain": [
       "  Subject  90% Component  95% Component  99% Component  Inverse RSME\n",
       "0       1             66             80             94      0.000001\n",
       "1       2             66             81             94      0.000001\n",
       "2       3             64             79             94      0.000001\n",
       "3       4             60             76             93      0.000001\n",
       "4       5             62             78             94      0.000001\n",
       "5       6             64             79             94      0.000001\n",
       "6       7             63             79             94      0.000001\n",
       "7       8             61             77             93      0.000001"
      ]
     },
     "execution_count": 11,
     "metadata": {},
     "output_type": "execute_result"
    }
   ],
   "source": [
    "#define empty lists to create df later on\n",
    "comp_90 = []\n",
    "comp_95 = []\n",
    "comp_99 = []\n",
    "rmse = []\n",
    "subj = []\n",
    "\n",
    "#loop thorugh each subject to perform PCA on each hemisphere separately\n",
    "for subject in range(1,8+1):\n",
    "    subj.append(str(subject))\n",
    "    #load data\n",
    "    path = '../../data/algonauts/subj0' + str(subject)\n",
    "    data_lh = np.load(path + '/training_split/training_fmri/lh_training_fmri.npy')[:100]\n",
    "    data_rh = np.load(path + '/training_split/training_fmri/rh_training_fmri.npy')[:100]\n",
    "    #concat both hemispheres\n",
    "    brain = np.concatenate((data_lh, data_rh), axis = 1)\n",
    "\n",
    "    #PCA\n",
    "    pca_brain = PCA(n_components=100)\n",
    "    pca_brain.fit(brain)\n",
    "    brain_transform = pca_brain.transform(brain)\n",
    "\n",
    "    #get the index of the first component with which me can explain 95% of variance\n",
    "    var_brain = np.cumsum(pca_brain.explained_variance_ratio_)\n",
    "    comp_90.append(np.where(var_brain >= .90)[0][0])\n",
    "    comp_95.append(np.where(var_brain >= .95)[0][0])\n",
    "    comp_99.append(np.where(var_brain >= .99)[0][0])\n",
    "\n",
    "    #calculate MSE on inversed data\n",
    "    inversed_brain = pca_brain.inverse_transform(brain_transform)\n",
    "    rmse.append(np.sqrt(((brain-inversed_brain)**2).mean()))\n",
    "\n",
    "#store results in a df\n",
    "PCA_results_combined = pd.DataFrame({'Subject': subj, '90% Component': comp_90,'95% Component': comp_95,\n",
    "                           '99% Component': comp_99,'Inverse RSME': rmse})\n",
    "\n",
    "#print results\n",
    "PCA_results_combined"
   ]
  },
  {
   "cell_type": "code",
   "execution_count": 12,
   "metadata": {},
   "outputs": [
    {
     "name": "stdout",
     "output_type": "stream",
     "text": [
      "Number of Components for 90%: 66\n",
      " Number of Components for 95%: 81\n",
      " Number of Components for 99%: 94\n"
     ]
    }
   ],
   "source": [
    "print(f'Number of Components for 90%: {max(comp_90)}\\n',\n",
    "    f'Number of Components for 95%: {max(comp_95)}\\n',\n",
    "    f'Number of Components for 99%: {max(comp_99)}')"
   ]
  }
 ],
 "metadata": {
  "kernelspec": {
   "display_name": "aml_project",
   "language": "python",
   "name": "python3"
  },
  "language_info": {
   "codemirror_mode": {
    "name": "ipython",
    "version": 3
   },
   "file_extension": ".py",
   "mimetype": "text/x-python",
   "name": "python",
   "nbconvert_exporter": "python",
   "pygments_lexer": "ipython3",
   "version": "3.9.12"
  }
 },
 "nbformat": 4,
 "nbformat_minor": 2
}
