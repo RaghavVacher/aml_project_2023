{
 "cells": [
  {
   "cell_type": "markdown",
   "metadata": {},
   "source": [
    "# PCA Exploration"
   ]
  },
  {
   "cell_type": "markdown",
   "metadata": {},
   "source": [
    "## Lit Review - hosseinadeli submission (Fred)\n",
    "\n",
    "- 100 components - why? who knows"
   ]
  },
  {
   "cell_type": "markdown",
   "metadata": {},
   "source": [
    "## Computing"
   ]
  },
  {
   "cell_type": "code",
   "execution_count": 1,
   "metadata": {},
   "outputs": [],
   "source": [
    "from sklearn.decomposition import PCA\n",
    "import matplotlib.pyplot as plt\n",
    "import numpy as np\n",
    "import pandas as pd"
   ]
  },
  {
   "cell_type": "code",
   "execution_count": 2,
   "metadata": {},
   "outputs": [],
   "source": [
    "import sys\n",
    "    \n",
    "try:\n",
    "    from utils import data_loading\n",
    "except:\n",
    "    sys.path.append('../utils')\n",
    "    sys.path.append('../')\n",
    "    from utils import data_loading"
   ]
  },
  {
   "cell_type": "markdown",
   "metadata": {},
   "source": [
    "### Testing for subj1 for one hemisphere"
   ]
  },
  {
   "cell_type": "code",
   "execution_count": 3,
   "metadata": {},
   "outputs": [
    {
     "name": "stdout",
     "output_type": "stream",
     "text": [
      "LH shape: (9841, 19004)\n",
      "RH Shape: (9841, 20544)\n"
     ]
    }
   ],
   "source": [
    "#load data for subj1\n",
    "data_lh = np.load('../../data/algonauts/subj01/training_split/training_fmri/lh_training_fmri.npy')\n",
    "data_rh = np.load('../../data/algonauts/subj01/training_split/training_fmri/rh_training_fmri.npy')\n",
    "print(f'LH shape: {data_lh.shape}\\nRH Shape: {data_rh.shape}')"
   ]
  },
  {
   "cell_type": "code",
   "execution_count": 5,
   "metadata": {},
   "outputs": [],
   "source": [
    "# #exploratory PCA for right hemisphere\n",
    "# pca = PCA(n_components=9841) # n_components must be between min(n_smaples, n_features), hence 9841\n",
    "# pca.fit(data_rh)"
   ]
  },
  {
   "cell_type": "code",
   "execution_count": 6,
   "metadata": {},
   "outputs": [],
   "source": [
    "# # plot the cumulative explained variance as a function of the number of components\n",
    "# plt.plot(np.cumsum(pca.explained_variance_ratio_))\n",
    "# plt.xlabel('Number of Components')\n",
    "# plt.ylabel('Cumulative Explained Variance')\n",
    "# plt.show()"
   ]
  },
  {
   "cell_type": "code",
   "execution_count": 7,
   "metadata": {},
   "outputs": [],
   "source": [
    "# #same plot but zoomed in on num_components 0-2000\n",
    "# plt.plot(np.cumsum(pca.explained_variance_ratio_))\n",
    "# plt.xlabel('Number of Components')\n",
    "# plt.xlim(0, 2000)\n",
    "# plt.ylabel('Cumulative Explained Variance')\n",
    "# plt.yticks(np.arange(0, 1.05, 0.05))\n",
    "# plt.show()"
   ]
  },
  {
   "cell_type": "code",
   "execution_count": 8,
   "metadata": {},
   "outputs": [],
   "source": [
    "# #get the index of the first component with which me can explain 95% of variance\n",
    "# var = np.cumsum(pca.explained_variance_ratio_)\n",
    "# idx = np.where(var >= .95)[0]\n",
    "# idx[0]"
   ]
  },
  {
   "cell_type": "markdown",
   "metadata": {},
   "source": [
    "### Looping through all subj and both hemispheres seperately"
   ]
  },
  {
   "cell_type": "markdown",
   "metadata": {},
   "source": [
    "    adjust number of components in PCA and index in data loading to adjust for num of frmi images loaded"
   ]
  },
  {
   "cell_type": "code",
   "execution_count": 9,
   "metadata": {},
   "outputs": [
    {
     "data": {
      "text/html": [
       "<div>\n",
       "<style scoped>\n",
       "    .dataframe tbody tr th:only-of-type {\n",
       "        vertical-align: middle;\n",
       "    }\n",
       "\n",
       "    .dataframe tbody tr th {\n",
       "        vertical-align: top;\n",
       "    }\n",
       "\n",
       "    .dataframe thead th {\n",
       "        text-align: right;\n",
       "    }\n",
       "</style>\n",
       "<table border=\"1\" class=\"dataframe\">\n",
       "  <thead>\n",
       "    <tr style=\"text-align: right;\">\n",
       "      <th></th>\n",
       "      <th>Subject</th>\n",
       "      <th>90% Component RH</th>\n",
       "      <th>90% Component LH</th>\n",
       "      <th>95% Component RH</th>\n",
       "      <th>95% Component LH</th>\n",
       "      <th>99% Component RH</th>\n",
       "      <th>99% Component LH</th>\n",
       "      <th>Inverse RSME RH</th>\n",
       "      <th>Inverse RSME LH</th>\n",
       "    </tr>\n",
       "  </thead>\n",
       "  <tbody>\n",
       "    <tr>\n",
       "      <th>0</th>\n",
       "      <td>1</td>\n",
       "      <td>1086</td>\n",
       "      <td>1135</td>\n",
       "      <td>1970</td>\n",
       "      <td>2018</td>\n",
       "      <td>4168</td>\n",
       "      <td>4202</td>\n",
       "      <td>0.000006</td>\n",
       "      <td>0.000003</td>\n",
       "    </tr>\n",
       "    <tr>\n",
       "      <th>1</th>\n",
       "      <td>2</td>\n",
       "      <td>1025</td>\n",
       "      <td>1121</td>\n",
       "      <td>1874</td>\n",
       "      <td>2018</td>\n",
       "      <td>4036</td>\n",
       "      <td>4265</td>\n",
       "      <td>0.000003</td>\n",
       "      <td>0.000004</td>\n",
       "    </tr>\n",
       "    <tr>\n",
       "      <th>2</th>\n",
       "      <td>3</td>\n",
       "      <td>1256</td>\n",
       "      <td>1276</td>\n",
       "      <td>2165</td>\n",
       "      <td>2157</td>\n",
       "      <td>4376</td>\n",
       "      <td>4296</td>\n",
       "      <td>0.000002</td>\n",
       "      <td>0.000002</td>\n",
       "    </tr>\n",
       "    <tr>\n",
       "      <th>3</th>\n",
       "      <td>4</td>\n",
       "      <td>1014</td>\n",
       "      <td>1122</td>\n",
       "      <td>1824</td>\n",
       "      <td>1940</td>\n",
       "      <td>3827</td>\n",
       "      <td>3931</td>\n",
       "      <td>0.000002</td>\n",
       "      <td>0.000002</td>\n",
       "    </tr>\n",
       "    <tr>\n",
       "      <th>4</th>\n",
       "      <td>5</td>\n",
       "      <td>757</td>\n",
       "      <td>718</td>\n",
       "      <td>1524</td>\n",
       "      <td>1468</td>\n",
       "      <td>3605</td>\n",
       "      <td>3485</td>\n",
       "      <td>0.000002</td>\n",
       "      <td>0.000003</td>\n",
       "    </tr>\n",
       "    <tr>\n",
       "      <th>5</th>\n",
       "      <td>6</td>\n",
       "      <td>1026</td>\n",
       "      <td>1128</td>\n",
       "      <td>1920</td>\n",
       "      <td>1980</td>\n",
       "      <td>4135</td>\n",
       "      <td>4077</td>\n",
       "      <td>0.000002</td>\n",
       "      <td>0.000002</td>\n",
       "    </tr>\n",
       "    <tr>\n",
       "      <th>6</th>\n",
       "      <td>7</td>\n",
       "      <td>1001</td>\n",
       "      <td>938</td>\n",
       "      <td>1843</td>\n",
       "      <td>1710</td>\n",
       "      <td>4000</td>\n",
       "      <td>3707</td>\n",
       "      <td>0.000002</td>\n",
       "      <td>0.000004</td>\n",
       "    </tr>\n",
       "    <tr>\n",
       "      <th>7</th>\n",
       "      <td>8</td>\n",
       "      <td>975</td>\n",
       "      <td>988</td>\n",
       "      <td>1808</td>\n",
       "      <td>1769</td>\n",
       "      <td>3940</td>\n",
       "      <td>3760</td>\n",
       "      <td>0.000002</td>\n",
       "      <td>0.000002</td>\n",
       "    </tr>\n",
       "  </tbody>\n",
       "</table>\n",
       "</div>"
      ],
      "text/plain": [
       "  Subject  90% Component RH  90% Component LH  95% Component RH  \\\n",
       "0       1              1086              1135              1970   \n",
       "1       2              1025              1121              1874   \n",
       "2       3              1256              1276              2165   \n",
       "3       4              1014              1122              1824   \n",
       "4       5               757               718              1524   \n",
       "5       6              1026              1128              1920   \n",
       "6       7              1001               938              1843   \n",
       "7       8               975               988              1808   \n",
       "\n",
       "   95% Component LH  99% Component RH  99% Component LH  Inverse RSME RH  \\\n",
       "0              2018              4168              4202         0.000006   \n",
       "1              2018              4036              4265         0.000003   \n",
       "2              2157              4376              4296         0.000002   \n",
       "3              1940              3827              3931         0.000002   \n",
       "4              1468              3605              3485         0.000002   \n",
       "5              1980              4135              4077         0.000002   \n",
       "6              1710              4000              3707         0.000002   \n",
       "7              1769              3940              3760         0.000002   \n",
       "\n",
       "   Inverse RSME LH  \n",
       "0         0.000003  \n",
       "1         0.000004  \n",
       "2         0.000002  \n",
       "3         0.000002  \n",
       "4         0.000003  \n",
       "5         0.000002  \n",
       "6         0.000004  \n",
       "7         0.000002  "
      ]
     },
     "execution_count": 9,
     "metadata": {},
     "output_type": "execute_result"
    }
   ],
   "source": [
    "#define empty lists to create df later on\n",
    "comp_90_rh = []\n",
    "comp_95_rh = []\n",
    "comp_99_rh = []\n",
    "comp_90_lh = []\n",
    "comp_95_lh = []\n",
    "comp_99_lh = []\n",
    "rmse_rh = []\n",
    "rmse_lh = []\n",
    "subj = []\n",
    "\n",
    "#loop thorugh each subject to perform PCA on each hemisphere separately\n",
    "for subject in range(1,8+1):\n",
    "    subj.append(str(subject))\n",
    "    #load data\n",
    "    path = '../../data/algonauts/subj0' + str(subject)\n",
    "    data_lh = np.load(path + '/training_split/training_fmri/lh_training_fmri.npy')\n",
    "    data_rh = np.load(path + '/training_split/training_fmri/rh_training_fmri.npy')\n",
    "\n",
    "    #PCA_rh\n",
    "    pca_rh = PCA(n_components=data_rh.shape[0])\n",
    "    pca_rh.fit(data_rh)\n",
    "    rh_transform = pca_rh.transform(data_rh)\n",
    "    #PCA_lh\n",
    "    pca_lh = PCA(n_components=data_rh.shape[0])\n",
    "    pca_lh.fit(data_lh)\n",
    "    lh_transform = pca_lh.transform(data_lh)\n",
    "\n",
    "    #get the index of the first component with which me can explain 95% of variance\n",
    "    ##rh\n",
    "    var_rh = np.cumsum(pca_rh.explained_variance_ratio_)\n",
    "    comp_90_rh.append(np.where(var_rh >= .90)[0][0])\n",
    "    comp_95_rh.append(np.where(var_rh >= .95)[0][0])\n",
    "    comp_99_rh.append(np.where(var_rh >= .99)[0][0])\n",
    "    ##lh\n",
    "    var_lh = np.cumsum(pca_lh.explained_variance_ratio_)\n",
    "    comp_90_lh.append(np.where(var_lh >= .90)[0][0])\n",
    "    comp_95_lh.append(np.where(var_lh >= .95)[0][0])\n",
    "    comp_99_lh.append(np.where(var_lh >= .99)[0][0])\n",
    "\n",
    "    #calculate MSE on inversed data\n",
    "    ##rh\n",
    "    inversed_rh = pca_rh.inverse_transform(rh_transform)\n",
    "    rmse_rh.append(np.sqrt(((data_rh-inversed_rh)**2).mean()))\n",
    "    ##lh\n",
    "    inversed_lh = pca_lh.inverse_transform(lh_transform)\n",
    "    rmse_lh.append(np.sqrt(((data_lh-inversed_lh)**2).mean()))\n",
    "\n",
    "#store results in a df\n",
    "PCA_results_separate = pd.DataFrame({'Subject': subj, '90% Component RH': comp_90_rh, '90% Component LH': comp_90_lh,\n",
    "                           '95% Component RH': comp_95_rh, '95% Component LH': comp_95_lh,\n",
    "                           '99% Component RH': comp_99_rh, '99% Component LH': comp_99_lh,\n",
    "                           'Inverse RSME RH': rmse_rh, 'Inverse RSME LH': rmse_lh})\n",
    "\n",
    "#print results\n",
    "PCA_results_separate"
   ]
  },
  {
   "cell_type": "code",
   "execution_count": 10,
   "metadata": {},
   "outputs": [
    {
     "name": "stdout",
     "output_type": "stream",
     "text": [
      "Number of Components for 90%: 1276\n",
      " Number of Components for 95%: 2165\n",
      " Number of Components for 99%: 4376\n"
     ]
    }
   ],
   "source": [
    "print(f'Number of Components for 90%: {max(comp_90_rh + comp_90_lh)}\\n',\n",
    "    f'Number of Components for 95%: {max(comp_95_rh + comp_95_lh)}\\n',\n",
    "    f'Number of Components for 99%: {max(comp_99_rh + comp_99_lh)}')"
   ]
  },
  {
   "cell_type": "code",
   "execution_count": 11,
   "metadata": {},
   "outputs": [],
   "source": [
    "PCA_results_separate.to_csv('../../output/PCA_results_seperate.csv')"
   ]
  },
  {
   "cell_type": "markdown",
   "metadata": {},
   "source": [
    "### Looping through all subj and both hemispheres combined"
   ]
  },
  {
   "cell_type": "markdown",
   "metadata": {},
   "source": [
    "    adjust number of components in PCA and index in data loading to adjust for num of frmi images loaded"
   ]
  },
  {
   "cell_type": "code",
   "execution_count": 12,
   "metadata": {},
   "outputs": [
    {
     "data": {
      "text/html": [
       "<div>\n",
       "<style scoped>\n",
       "    .dataframe tbody tr th:only-of-type {\n",
       "        vertical-align: middle;\n",
       "    }\n",
       "\n",
       "    .dataframe tbody tr th {\n",
       "        vertical-align: top;\n",
       "    }\n",
       "\n",
       "    .dataframe thead th {\n",
       "        text-align: right;\n",
       "    }\n",
       "</style>\n",
       "<table border=\"1\" class=\"dataframe\">\n",
       "  <thead>\n",
       "    <tr style=\"text-align: right;\">\n",
       "      <th></th>\n",
       "      <th>Subject</th>\n",
       "      <th>90% Component</th>\n",
       "      <th>95% Component</th>\n",
       "      <th>99% Component</th>\n",
       "      <th>Inverse RSME</th>\n",
       "    </tr>\n",
       "  </thead>\n",
       "  <tbody>\n",
       "    <tr>\n",
       "      <th>0</th>\n",
       "      <td>1</td>\n",
       "      <td>1732</td>\n",
       "      <td>3059</td>\n",
       "      <td>6035</td>\n",
       "      <td>0.000002</td>\n",
       "    </tr>\n",
       "    <tr>\n",
       "      <th>1</th>\n",
       "      <td>2</td>\n",
       "      <td>1673</td>\n",
       "      <td>2981</td>\n",
       "      <td>5963</td>\n",
       "      <td>0.000002</td>\n",
       "    </tr>\n",
       "    <tr>\n",
       "      <th>2</th>\n",
       "      <td>3</td>\n",
       "      <td>1900</td>\n",
       "      <td>3187</td>\n",
       "      <td>5972</td>\n",
       "      <td>0.000002</td>\n",
       "    </tr>\n",
       "    <tr>\n",
       "      <th>3</th>\n",
       "      <td>4</td>\n",
       "      <td>1608</td>\n",
       "      <td>2792</td>\n",
       "      <td>5445</td>\n",
       "      <td>0.000002</td>\n",
       "    </tr>\n",
       "    <tr>\n",
       "      <th>4</th>\n",
       "      <td>5</td>\n",
       "      <td>1168</td>\n",
       "      <td>2332</td>\n",
       "      <td>5241</td>\n",
       "      <td>0.000002</td>\n",
       "    </tr>\n",
       "    <tr>\n",
       "      <th>5</th>\n",
       "      <td>6</td>\n",
       "      <td>1617</td>\n",
       "      <td>2873</td>\n",
       "      <td>5697</td>\n",
       "      <td>0.000002</td>\n",
       "    </tr>\n",
       "    <tr>\n",
       "      <th>6</th>\n",
       "      <td>7</td>\n",
       "      <td>1532</td>\n",
       "      <td>2764</td>\n",
       "      <td>5663</td>\n",
       "      <td>0.000002</td>\n",
       "    </tr>\n",
       "    <tr>\n",
       "      <th>7</th>\n",
       "      <td>8</td>\n",
       "      <td>1450</td>\n",
       "      <td>2603</td>\n",
       "      <td>5301</td>\n",
       "      <td>0.000002</td>\n",
       "    </tr>\n",
       "  </tbody>\n",
       "</table>\n",
       "</div>"
      ],
      "text/plain": [
       "  Subject  90% Component  95% Component  99% Component  Inverse RSME\n",
       "0       1           1732           3059           6035      0.000002\n",
       "1       2           1673           2981           5963      0.000002\n",
       "2       3           1900           3187           5972      0.000002\n",
       "3       4           1608           2792           5445      0.000002\n",
       "4       5           1168           2332           5241      0.000002\n",
       "5       6           1617           2873           5697      0.000002\n",
       "6       7           1532           2764           5663      0.000002\n",
       "7       8           1450           2603           5301      0.000002"
      ]
     },
     "execution_count": 12,
     "metadata": {},
     "output_type": "execute_result"
    }
   ],
   "source": [
    "#define empty lists to create df later on\n",
    "comp_90 = []\n",
    "comp_95 = []\n",
    "comp_99 = []\n",
    "rmse = []\n",
    "subj = []\n",
    "\n",
    "#loop thorugh each subject to perform PCA on each hemisphere separately\n",
    "for subject in range(1,8+1):\n",
    "    subj.append(str(subject))\n",
    "    #load data\n",
    "    path = '../../data/algonauts/subj0' + str(subject)\n",
    "    data_lh = np.load(path + '/training_split/training_fmri/lh_training_fmri.npy')\n",
    "    data_rh = np.load(path + '/training_split/training_fmri/rh_training_fmri.npy')\n",
    "    #concat both hemispheres\n",
    "    brain = np.concatenate((data_lh, data_rh), axis = 1)\n",
    "\n",
    "    #PCA\n",
    "    pca_brain = PCA(n_components=brain.shape[0])\n",
    "    pca_brain.fit(brain)\n",
    "    brain_transform = pca_brain.transform(brain)\n",
    "\n",
    "    #get the index of the first component with which me can explain 95% of variance\n",
    "    var_brain = np.cumsum(pca_brain.explained_variance_ratio_)\n",
    "    comp_90.append(np.where(var_brain >= .90)[0][0])\n",
    "    comp_95.append(np.where(var_brain >= .95)[0][0])\n",
    "    comp_99.append(np.where(var_brain >= .99)[0][0])\n",
    "\n",
    "    #calculate MSE on inversed data\n",
    "    inversed_brain = pca_brain.inverse_transform(brain_transform)\n",
    "    rmse.append(np.sqrt(((brain-inversed_brain)**2).mean()))\n",
    "\n",
    "#store results in a df\n",
    "PCA_results_combined = pd.DataFrame({'Subject': subj, '90% Component': comp_90,'95% Component': comp_95,\n",
    "                           '99% Component': comp_99,'Inverse RSME': rmse})\n",
    "\n",
    "#print results\n",
    "PCA_results_combined"
   ]
  },
  {
   "cell_type": "code",
   "execution_count": 13,
   "metadata": {},
   "outputs": [
    {
     "name": "stdout",
     "output_type": "stream",
     "text": [
      "Number of Components for 90%: 1900\n",
      " Number of Components for 95%: 3187\n",
      " Number of Components for 99%: 6035\n"
     ]
    }
   ],
   "source": [
    "print(f'Number of Components for 90%: {max(comp_90)}\\n',\n",
    "    f'Number of Components for 95%: {max(comp_95)}\\n',\n",
    "    f'Number of Components for 99%: {max(comp_99)}')"
   ]
  },
  {
   "cell_type": "code",
   "execution_count": 14,
   "metadata": {},
   "outputs": [],
   "source": [
    "PCA_results_combined.to_csv('../../output/PCA_results_combined.csv')"
   ]
  }
 ],
 "metadata": {
  "kernelspec": {
   "display_name": "aml_project",
   "language": "python",
   "name": "python3"
  },
  "language_info": {
   "codemirror_mode": {
    "name": "ipython",
    "version": 3
   },
   "file_extension": ".py",
   "mimetype": "text/x-python",
   "name": "python",
   "nbconvert_exporter": "python",
   "pygments_lexer": "ipython3",
   "version": "3.9.12"
  }
 },
 "nbformat": 4,
 "nbformat_minor": 2
}
