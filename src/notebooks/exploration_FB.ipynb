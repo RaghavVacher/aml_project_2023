{
 "cells": [
  {
   "cell_type": "code",
   "execution_count": 2,
   "metadata": {},
   "outputs": [],
   "source": [
    "import sys\n",
    "sys.path.append('../')\n",
    "from utils import data_loading, model_test as model\n",
    "import numpy as np"
   ]
  },
  {
   "cell_type": "code",
   "execution_count": 4,
   "metadata": {},
   "outputs": [
    {
     "name": "stdout",
     "output_type": "stream",
     "text": [
      "\n",
      "\n",
      "----------------\n",
      "Loading subject data...\n",
      "Current project directory: c:\\Users\\frbre\\OneDrive\\01 Dokumenter\\01 Uni\\01 Advanced Machine Learning\\aml_project_2023\n"
     ]
    }
   ],
   "source": [
    "lh_subj01, rh_subj01, images_subj01 = data_loading.load_subject_data(1, 0, 100)"
   ]
  },
  {
   "cell_type": "code",
   "execution_count": 5,
   "metadata": {},
   "outputs": [
    {
     "data": {
      "text/plain": [
       "(425, 425, 3)"
      ]
     },
     "execution_count": 5,
     "metadata": {},
     "output_type": "execute_result"
    }
   ],
   "source": [
    "images_subj01[0].shape"
   ]
  },
  {
   "cell_type": "code",
   "execution_count": 6,
   "metadata": {},
   "outputs": [
    {
     "data": {
      "text/plain": [
       "(100, 20544)"
      ]
     },
     "execution_count": 6,
     "metadata": {},
     "output_type": "execute_result"
    }
   ],
   "source": [
    "rh_subj01.shape"
   ]
  },
  {
   "cell_type": "code",
   "execution_count": 7,
   "metadata": {},
   "outputs": [
    {
     "data": {
      "text/plain": [
       "(100, 19004)"
      ]
     },
     "execution_count": 7,
     "metadata": {},
     "output_type": "execute_result"
    }
   ],
   "source": [
    "lh_subj01.shape"
   ]
  },
  {
   "cell_type": "code",
   "execution_count": 8,
   "metadata": {},
   "outputs": [
    {
     "data": {
      "text/plain": [
       "(100, 39548)"
      ]
     },
     "execution_count": 8,
     "metadata": {},
     "output_type": "execute_result"
    }
   ],
   "source": [
    "brain_01 = np.concatenate((lh_subj01, rh_subj01), axis=1)\n",
    "brain_01.shape"
   ]
  },
  {
   "cell_type": "code",
   "execution_count": 13,
   "metadata": {},
   "outputs": [
    {
     "ename": "OSError",
     "evalue": "[Errno 22] Invalid argument: 'data\\x07lgonauts\\\\subj01\\roi_masks\\\\lh.all-vertices_fsaverage_space.npy'",
     "output_type": "error",
     "traceback": [
      "\u001b[1;31m---------------------------------------------------------------------------\u001b[0m",
      "\u001b[1;31mOSError\u001b[0m                                   Traceback (most recent call last)",
      "\u001b[1;32mc:\\Users\\frbre\\OneDrive\\01 Dokumenter\\01 Uni\\01 Advanced Machine Learning\\aml_project_2023\\src\\notebooks\\exploration_FB.ipynb Cell 7\u001b[0m line \u001b[0;36m1\n\u001b[1;32m----> <a href='vscode-notebook-cell:/c%3A/Users/frbre/OneDrive/01%20Dokumenter/01%20Uni/01%20Advanced%20Machine%20Learning/aml_project_2023/src/notebooks/exploration_FB.ipynb#W6sZmlsZQ%3D%3D?line=0'>1</a>\u001b[0m lh_all_vertices_fsaverage \u001b[39m=\u001b[39m np\u001b[39m.\u001b[39;49mload(\u001b[39m\"\u001b[39;49m\u001b[39mdata\u001b[39;49m\u001b[39m\\a\u001b[39;49;00m\u001b[39mlgonauts\u001b[39;49m\u001b[39m\\\u001b[39;49m\u001b[39msubj01\u001b[39;49m\u001b[39m\\r\u001b[39;49;00m\u001b[39moi_masks\u001b[39;49m\u001b[39m\\\u001b[39;49m\u001b[39mlh.all-vertices_fsaverage_space.npy\u001b[39;49m\u001b[39m\"\u001b[39;49m)\n\u001b[0;32m      <a href='vscode-notebook-cell:/c%3A/Users/frbre/OneDrive/01%20Dokumenter/01%20Uni/01%20Advanced%20Machine%20Learning/aml_project_2023/src/notebooks/exploration_FB.ipynb#W6sZmlsZQ%3D%3D?line=1'>2</a>\u001b[0m rh_all_vertices_fsaverage \u001b[39m=\u001b[39m np\u001b[39m.\u001b[39mload(\u001b[39m'\u001b[39m\u001b[39mdata\u001b[39m\u001b[39m\\a\u001b[39;00m\u001b[39mlgonauts\u001b[39m\u001b[39m\\\u001b[39m\u001b[39msubj01\u001b[39m\u001b[39m\\r\u001b[39;00m\u001b[39moi_masks\u001b[39m\u001b[39m\\\u001b[39m\u001b[39mlr.all-vertices_fsaverage_space.npy\u001b[39m\u001b[39m'\u001b[39m)\n\u001b[0;32m      <a href='vscode-notebook-cell:/c%3A/Users/frbre/OneDrive/01%20Dokumenter/01%20Uni/01%20Advanced%20Machine%20Learning/aml_project_2023/src/notebooks/exploration_FB.ipynb#W6sZmlsZQ%3D%3D?line=2'>3</a>\u001b[0m all_vertices_fsaverage \u001b[39m=\u001b[39m np\u001b[39m.\u001b[39mconcatenate((lh_all_vertices_fsaverage, rh_all_vertices_fsaverage), axis\u001b[39m=\u001b[39m\u001b[39m0\u001b[39m)\n",
      "File \u001b[1;32mc:\\Users\\frbre\\OneDrive\\01 Dokumenter\\01 Uni\\01 Advanced Machine Learning\\aml_project_2023\\aml_project\\lib\\site-packages\\numpy\\lib\\npyio.py:427\u001b[0m, in \u001b[0;36mload\u001b[1;34m(file, mmap_mode, allow_pickle, fix_imports, encoding, max_header_size)\u001b[0m\n\u001b[0;32m    425\u001b[0m     own_fid \u001b[39m=\u001b[39m \u001b[39mFalse\u001b[39;00m\n\u001b[0;32m    426\u001b[0m \u001b[39melse\u001b[39;00m:\n\u001b[1;32m--> 427\u001b[0m     fid \u001b[39m=\u001b[39m stack\u001b[39m.\u001b[39menter_context(\u001b[39mopen\u001b[39;49m(os_fspath(file), \u001b[39m\"\u001b[39;49m\u001b[39mrb\u001b[39;49m\u001b[39m\"\u001b[39;49m))\n\u001b[0;32m    428\u001b[0m     own_fid \u001b[39m=\u001b[39m \u001b[39mTrue\u001b[39;00m\n\u001b[0;32m    430\u001b[0m \u001b[39m# Code to distinguish from NumPy binary files and pickles.\u001b[39;00m\n",
      "\u001b[1;31mOSError\u001b[0m: [Errno 22] Invalid argument: 'data\\x07lgonauts\\\\subj01\\roi_masks\\\\lh.all-vertices_fsaverage_space.npy'"
     ]
    }
   ],
   "source": [
    "lh_all_vertices_fsaverage = np.load(\"data\\algonauts\\subj01\\roi_masks\\lh.all-vertices_fsaverage_space.npy\")\n",
    "rh_all_vertices_fsaverage = np.load('data\\algonauts\\subj01\\roi_masks\\lr.all-vertices_fsaverage_space.npy')\n",
    "all_vertices_fsaverage = np.concatenate((lh_all_vertices_fsaverage, rh_all_vertices_fsaverage), axis=0)\n",
    "all_vertices_fsaverage.shape"
   ]
  }
 ],
 "metadata": {
  "kernelspec": {
   "display_name": "Python 3",
   "language": "python",
   "name": "python3"
  },
  "language_info": {
   "codemirror_mode": {
    "name": "ipython",
    "version": 3
   },
   "file_extension": ".py",
   "mimetype": "text/x-python",
   "name": "python",
   "nbconvert_exporter": "python",
   "pygments_lexer": "ipython3",
   "version": "3.10.4"
  }
 },
 "nbformat": 4,
 "nbformat_minor": 2
}
