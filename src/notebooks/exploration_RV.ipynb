{
 "cells": [
  {
   "cell_type": "code",
   "execution_count": 8,
   "metadata": {},
   "outputs": [],
   "source": [
    "import torch\n",
    "import torch.nn as nn\n",
    "import torchvision.models as models\n",
    "\n",
    "def get_pretrained_regression_model(output_size):\n",
    "    # Load the pretrained ResNet18 model\n",
    "    pretrained_model = models.resnet18(weights='DEFAULT')\n",
    "    \n",
    "    # Modify the last fully connected layer for regression with custom output size\n",
    "    in_features = pretrained_model.fc.in_features\n",
    "    pretrained_model.fc = nn.Linear(in_features, output_size)\n",
    "    \n",
    "    return pretrained_model\n",
    "\n",
    "model = get_pretrained_regression_model(100)"
   ]
  },
  {
   "cell_type": "code",
   "execution_count": 67,
   "metadata": {},
   "outputs": [],
   "source": [
    "from torch.utils.data import Dataset, DataLoader\n",
    "from sklearn.decomposition import PCA \n",
    "from torchvision import transforms\n",
    "from PIL import Image\n",
    "import numpy as np\n",
    "\n",
    "# Define an imaginary dataset class\n",
    "class ImaginaryDataset(Dataset):\n",
    "    def __init__(self, num_samples, transform=None, PCA = None):\n",
    "        self.num_samples = num_samples\n",
    "        self.transform = transform\n",
    "        self.PCA = PCA\n",
    "        self.data, self.output = self.generate_data()\n",
    "\n",
    "    def generate_data(self):\n",
    "        data = []\n",
    "        output_concat = []\n",
    "        for _ in range(self.num_samples):\n",
    "            # Generate random image data (3 channels, 128x128 pixels)\n",
    "            image = np.random.randint(0, 256, size=(3, 128, 128), dtype=np.uint8)\n",
    "            image = Image.fromarray(np.transpose(image, (1, 2, 0)))\n",
    "\n",
    "            # Generate random output array of length 1000\n",
    "            output = np.random.rand(1000)\n",
    "\n",
    "            data.append((image, output))\n",
    "            output_concat.append(output)\n",
    "        if self.PCA: self.PCA.fit(output_concat)\n",
    "        return data, output_concat\n",
    "    \n",
    "    def give_output(self):\n",
    "        return self.output\n",
    "    \n",
    "    def internal_PCA(self):\n",
    "        if self.PCA:\n",
    "            return self.PCA\n",
    "        else:\n",
    "            print(f'PCA is {self.PCA}')\n",
    "\n",
    "    def __len__(self):\n",
    "        return self.num_samples\n",
    "\n",
    "    def __getitem__(self, idx):\n",
    "        image, output = self.data[idx]\n",
    "\n",
    "        if self.transform:\n",
    "            image = self.transform(image)\n",
    "        if self.PCA:\n",
    "            output = self.PCA.transform(output.reshape(1, -1))\n",
    "        return image, torch.FloatTensor(output[0])\n",
    "\n",
    "# Define data transformations (you can customize these as needed)\n",
    "data_transform = transforms.Compose([\n",
    "    transforms.ToTensor(),\n",
    "])\n",
    "\n",
    "\n",
    "# Create an instance of the ImaginaryDataset\n",
    "num_samples = 1000  # You can adjust this based on your needs\n",
    "imaginary_dataset = ImaginaryDataset(num_samples, transform= data_transform)\n",
    "\n",
    "\n",
    "# Create a DataLoader for batch processing\n",
    "# batch_size = 32\n",
    "# data_loader = DataLoader(imaginary_dataset, batch_size=batch_size, shuffle=True)"
   ]
  },
  {
   "cell_type": "code",
   "execution_count": 62,
   "metadata": {},
   "outputs": [
    {
     "data": {
      "text/plain": [
       "tensor([-0.6295, -1.0589, -0.0295,  0.1368, -0.0329,  0.6135, -0.6347, -1.0426,\n",
       "        -0.6552,  0.2255,  0.7754, -0.7037, -0.3348,  0.0709, -0.6169,  0.2675,\n",
       "         0.2397,  0.6179,  0.8363,  0.8152, -0.6182, -0.9547, -0.7746, -0.2705,\n",
       "         0.5320, -0.2302,  0.1947, -0.8367,  0.2591,  0.0209,  0.6226,  0.2442,\n",
       "        -0.2488,  0.1452,  0.1646,  0.6997,  1.0926, -0.5920, -0.2921, -0.0297,\n",
       "         0.2005,  0.2934, -0.5573,  0.1135,  0.9171,  0.1379, -0.7114,  0.1247,\n",
       "        -0.4917,  0.4868,  0.2106,  0.7978, -0.3085, -0.4237,  0.0493,  1.1658,\n",
       "        -0.4858,  0.0470, -0.6473,  0.6047,  0.5868,  0.3117, -0.2822, -0.4220,\n",
       "        -0.3039,  0.0859,  0.1376,  0.4752,  0.9518,  0.0762,  0.3508, -0.0720,\n",
       "         0.4628, -0.2626,  0.4634, -0.1505, -0.0965, -0.1135, -0.3443, -0.1266,\n",
       "        -0.1408,  0.6696,  0.0095,  0.7941, -0.3037,  0.3988,  0.2276, -0.1188,\n",
       "        -0.4072,  0.0746, -0.3886, -0.2150,  0.5003,  0.1679, -0.0914, -0.2793,\n",
       "         0.2941, -0.0484,  0.2021,  0.4154])"
      ]
     },
     "execution_count": 62,
     "metadata": {},
     "output_type": "execute_result"
    }
   ],
   "source": [
    "class ImaginaryDataset(Dataset):\n",
    "    def __init__(self, images_list, outputs_list, transform=None, PCA=None):\n",
    "        self.num_samples = len(images_list)\n",
    "        self.transform = transform\n",
    "        self.PCA = PCA\n",
    "        self.data, self.output = self.load_data(images_list, outputs_list)\n",
    "\n",
    "    def load_data(self, images_list, outputs_list):\n",
    "        data = []\n",
    "        output_concat = []\n",
    "\n",
    "        for i in range(self.num_samples):\n",
    "            # Load image from the given list\n",
    "            image = Image.fromarray(images_list[i])\n",
    "\n",
    "            # Load output array from the given list\n",
    "            output = outputs_list[i]\n",
    "\n",
    "            data.append((image, output))\n",
    "            output_concat.append(output)\n",
    "\n",
    "        if self.PCA:\n",
    "            self.PCA.fit(output_concat)\n",
    "\n",
    "        return data, output_concat\n",
    "\n",
    "    def give_output(self):\n",
    "        return self.output\n",
    "\n",
    "    def internal_PCA(self):\n",
    "        if self.PCA:\n",
    "            return self.PCA\n",
    "        else:\n",
    "            print(f'PCA is {self.PCA}')\n",
    "\n",
    "    def __len__(self):\n",
    "        return self.num_samples\n",
    "\n",
    "    def __getitem__(self, idx):\n",
    "        image, output = self.data[idx]\n",
    "\n",
    "        if self.transform:\n",
    "            image = self.transform(image)\n",
    "        if self.PCA:\n",
    "            output = self.PCA.transform(output.reshape(1, -1))\n",
    "\n",
    "        return image, torch.FloatTensor(output[0])"
   ]
  },
  {
   "cell_type": "code",
   "execution_count": 68,
   "metadata": {},
   "outputs": [
    {
     "name": "stdout",
     "output_type": "stream",
     "text": [
      "PCA is None\n"
     ]
    }
   ],
   "source": [
    "Frozen_PCA = imaginary_dataset.internal_PCA()"
   ]
  },
  {
   "cell_type": "code",
   "execution_count": 65,
   "metadata": {},
   "outputs": [
    {
     "data": {
      "text/plain": [
       "1000"
      ]
     },
     "execution_count": 65,
     "metadata": {},
     "output_type": "execute_result"
    }
   ],
   "source": [
    "len(Frozen_PCA.inverse_transform(imaginary_dataset[0][1]))"
   ]
  }
 ],
 "metadata": {
  "kernelspec": {
   "display_name": "Python 3",
   "language": "python",
   "name": "python3"
  },
  "language_info": {
   "codemirror_mode": {
    "name": "ipython",
    "version": 3
   },
   "file_extension": ".py",
   "mimetype": "text/x-python",
   "name": "python",
   "nbconvert_exporter": "python",
   "pygments_lexer": "ipython3",
   "version": "3.11.2"
  }
 },
 "nbformat": 4,
 "nbformat_minor": 2
}
