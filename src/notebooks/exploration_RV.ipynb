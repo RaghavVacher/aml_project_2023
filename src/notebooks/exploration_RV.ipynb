{
 "cells": [
  {
   "cell_type": "code",
   "execution_count": 2,
   "metadata": {},
   "outputs": [],
   "source": [
    "import torch\n",
    "import torch.nn as nn\n",
    "import torchvision.models as models\n",
    "\n",
    "def get_pretrained_regression_model(output_size):\n",
    "    # Load the pretrained ResNet18 model\n",
    "    pretrained_model = models.resnet18(weights='DEFAULT')\n",
    "    \n",
    "    # Modify the last fully connected layer for regression with custom output size\n",
    "    in_features = pretrained_model.fc.in_features\n",
    "    pretrained_model.fc = nn.Linear(in_features, output_size)\n",
    "    \n",
    "    return pretrained_model\n",
    "\n",
    "model = get_pretrained_regression_model(100)"
   ]
  },
  {
   "cell_type": "code",
   "execution_count": 3,
   "metadata": {},
   "outputs": [],
   "source": [
    "from torch.utils.data import Dataset, DataLoader\n",
    "from sklearn.decomposition import PCA \n",
    "from torchvision import transforms\n",
    "from PIL import Image\n",
    "import numpy as np\n",
    "\n",
    "# Define an imaginary dataset class\n",
    "class ImaginaryDataset(Dataset):\n",
    "    def __init__(self, num_samples, transform=None, PCA = None):\n",
    "        self.num_samples = num_samples\n",
    "        self.transform = transform\n",
    "        self.PCA = PCA\n",
    "        self.data, self.output = self.generate_data()\n",
    "\n",
    "    def generate_data(self):\n",
    "        data = []\n",
    "        output_concat = []\n",
    "        for _ in range(self.num_samples):\n",
    "            # Generate random image data (3 channels, 128x128 pixels)\n",
    "            image = np.random.randint(0, 256, size=(3, 128, 128), dtype=np.uint8)\n",
    "            image = Image.fromarray(np.transpose(image, (1, 2, 0)))\n",
    "\n",
    "            # Generate random output array of length 1000\n",
    "            output = np.random.rand(1000)\n",
    "\n",
    "            data.append((image, output))\n",
    "            output_concat.append(output)\n",
    "        if self.PCA: self.PCA.fit(output_concat)\n",
    "        return data, output_concat\n",
    "    \n",
    "    def give_output(self):\n",
    "        return self.output\n",
    "    \n",
    "    def internal_PCA(self):\n",
    "        if self.PCA:\n",
    "            return self.PCA\n",
    "        else:\n",
    "            print(f'PCA is {self.PCA}')\n",
    "\n",
    "    def __len__(self):\n",
    "        return self.num_samples\n",
    "\n",
    "    def __getitem__(self, idx):\n",
    "        image, output = self.data[idx]\n",
    "\n",
    "        if self.transform:\n",
    "            image = self.transform(image)\n",
    "        if self.PCA:\n",
    "            output = self.PCA.transform(output.reshape(1, -1))\n",
    "        return image, torch.FloatTensor(output[0])\n",
    "\n",
    "# Define data transformations (you can customize these as needed)\n",
    "data_transform = transforms.Compose([\n",
    "    transforms.ToTensor(),\n",
    "])\n",
    "\n",
    "\n",
    "# Create an instance of the ImaginaryDataset\n",
    "num_samples = 1000  # You can adjust this based on your needs\n",
    "imaginary_dataset = ImaginaryDataset(num_samples, transform= data_transform, PCA = PCA(n_components= 100))\n",
    "\n",
    "\n",
    "# Create a DataLoader for batch processing\n",
    "batch_size = 32\n",
    "data_loader = DataLoader(imaginary_dataset, batch_size=batch_size, shuffle=True)"
   ]
  },
  {
   "cell_type": "code",
   "execution_count": 69,
   "metadata": {},
   "outputs": [],
   "source": [
    "class ImaginaryDataset(Dataset):\n",
    "    def __init__(self, images_list, outputs_list, transform=None, PCA=None):\n",
    "        self.num_samples = len(images_list)\n",
    "        self.transform = transform\n",
    "        self.PCA = PCA\n",
    "        self.data, self.output = self.load_data(images_list, outputs_list)\n",
    "\n",
    "    def load_data(self, images_list, outputs_list):\n",
    "        data = []\n",
    "        output_concat = []\n",
    "\n",
    "        for i in range(self.num_samples):\n",
    "            # Load image from the given list\n",
    "            image = Image.fromarray(images_list[i])\n",
    "\n",
    "            # Load output array from the given list\n",
    "            output = outputs_list[i]\n",
    "\n",
    "            data.append((image, output))\n",
    "            output_concat.append(output)\n",
    "\n",
    "        if self.PCA:\n",
    "            self.PCA.fit(output_concat)\n",
    "\n",
    "        return data, output_concat\n",
    "\n",
    "    def give_output(self):\n",
    "        return self.output\n",
    "\n",
    "    def internal_PCA(self):\n",
    "        if self.PCA:\n",
    "            return self.PCA\n",
    "        else:\n",
    "            print(f'PCA is {self.PCA}')\n",
    "\n",
    "    def __len__(self):\n",
    "        return self.num_samples\n",
    "\n",
    "    def __getitem__(self, idx):\n",
    "        image, output = self.data[idx]\n",
    "\n",
    "        if self.transform:\n",
    "            image = self.transform(image)\n",
    "        if self.PCA:\n",
    "            output = self.PCA.transform(output.reshape(1, -1))\n",
    "\n",
    "        return image, torch.FloatTensor(output[0])"
   ]
  },
  {
   "cell_type": "code",
   "execution_count": 68,
   "metadata": {},
   "outputs": [
    {
     "name": "stdout",
     "output_type": "stream",
     "text": [
      "PCA is None\n"
     ]
    }
   ],
   "source": [
    "Frozen_PCA = imaginary_dataset.internal_PCA()"
   ]
  },
  {
   "cell_type": "code",
   "execution_count": 65,
   "metadata": {},
   "outputs": [
    {
     "data": {
      "text/plain": [
       "1000"
      ]
     },
     "execution_count": 65,
     "metadata": {},
     "output_type": "execute_result"
    }
   ],
   "source": [
    "len(Frozen_PCA.inverse_transform(imaginary_dataset[0][1]))"
   ]
  },
  {
   "cell_type": "code",
   "execution_count": 72,
   "metadata": {},
   "outputs": [
    {
     "ename": "ImportError",
     "evalue": "attempted relative import with no known parent package",
     "output_type": "error",
     "traceback": [
      "\u001b[1;31m---------------------------------------------------------------------------\u001b[0m",
      "\u001b[1;31mImportError\u001b[0m                               Traceback (most recent call last)",
      "\u001b[1;32mc:\\Users\\rvacher\\Downloads\\aml_project_2023\\src\\notebooks\\exploration_RV.ipynb Cell 6\u001b[0m line \u001b[0;36m1\n\u001b[1;32m----> <a href='vscode-notebook-cell:/c%3A/Users/rvacher/Downloads/aml_project_2023/src/notebooks/exploration_RV.ipynb#X12sZmlsZQ%3D%3D?line=0'>1</a>\u001b[0m \u001b[39mfrom\u001b[39;00m \u001b[39m.\u001b[39;00m\u001b[39m.\u001b[39;00m\u001b[39mutils\u001b[39;00m \u001b[39mimport\u001b[39;00m yay\n",
      "\u001b[1;31mImportError\u001b[0m: attempted relative import with no known parent package"
     ]
    }
   ],
   "source": [
    "from ..utils import yay"
   ]
  },
  {
   "cell_type": "code",
   "execution_count": 7,
   "metadata": {},
   "outputs": [],
   "source": [
    "import torch\n",
    "\n",
    "class Trainer:\n",
    "    def __init__(self):\n",
    "        self.model = None\n",
    "        self.optimizer = None\n",
    "        self.loss_fn = None\n",
    "        self.train_loader = None\n",
    "        self.val_loader = None\n",
    "        self.history = {'train_loss': [], 'val_loss': []}\n",
    "\n",
    "    def compile(self, model, optimizer, learning_rate, loss_fn):\n",
    "        self.model = model\n",
    "        self.optimizer = optimizer(self.model.parameters(), lr=learning_rate)\n",
    "        self.loss_fn = loss_fn\n",
    "\n",
    "    def fit(self, num_epochs, train_loader, val_loader=None):\n",
    "        self.train_loader = train_loader\n",
    "        self.val_loader = val_loader\n",
    "\n",
    "        for epoch in range(num_epochs):\n",
    "            self.model.train()\n",
    "            total_loss = 0.0\n",
    "            for inputs, targets in self.train_loader:\n",
    "                self.optimizer.zero_grad()\n",
    "                outputs = self.model(inputs)\n",
    "                loss = self.loss_fn(outputs, targets)\n",
    "                loss.backward()\n",
    "                self.optimizer.step()\n",
    "                total_loss += loss.item()\n",
    "\n",
    "            avg_loss = total_loss / len(self.train_loader)\n",
    "            self.history['train_loss'].append(avg_loss)\n",
    "            print(f\"Epoch [{epoch + 1}/{num_epochs}], Training Loss: {avg_loss}\")\n",
    "\n",
    "            if self.val_loader is not None:\n",
    "                val_loss = self.evaluate(self.val_loader, \"Validation\")\n",
    "                self.history['val_loss'].append(val_loss)\n",
    "                print(f\"Validation Loss: {val_loss}\")\n",
    "\n",
    "    def evaluate(self, data_loader, mode=\"Test\"):\n",
    "        self.model.eval()\n",
    "        total_loss = 0.0\n",
    "        with torch.no_grad():\n",
    "            for inputs, targets in data_loader:\n",
    "                outputs = self.model(inputs)\n",
    "                loss = self.loss_fn(outputs, targets)\n",
    "                total_loss += loss.item()\n",
    "\n",
    "        avg_loss = total_loss / len(data_loader)\n",
    "        print(f\"{mode} Loss: {avg_loss}\")\n",
    "        return avg_loss\n",
    "\n",
    "    def save(self, filepath):\n",
    "        torch.save({\n",
    "            'model_state_dict': self.model.state_dict(),\n",
    "            'optimizer_state_dict': self.optimizer.state_dict(),\n",
    "            'history': self.history\n",
    "        }, filepath)\n",
    "        print(f\"Model and training history saved to {filepath}\")\n",
    "\n",
    "    def load(self, filepath):\n",
    "        checkpoint = torch.load(filepath)\n",
    "        self.model.load_state_dict(checkpoint['model_state_dict'])\n",
    "        self.optimizer.load_state_dict(checkpoint['optimizer_state_dict'])\n",
    "        self.history = checkpoint['history']\n",
    "        print(f\"Model and training history loaded from {filepath}\")\n"
   ]
  },
  {
   "cell_type": "code",
   "execution_count": 8,
   "metadata": {},
   "outputs": [
    {
     "name": "stdout",
     "output_type": "stream",
     "text": [
      "Epoch [1/2], Training Loss: 0.12307136203162372\n",
      "Epoch [2/2], Training Loss: 0.10246795928105712\n"
     ]
    }
   ],
   "source": [
    "trainer = Trainer()\n",
    "trainer.compile(model = model, optimizer= torch.optim.Adam, learning_rate= 0.0001, loss_fn= torch.nn.MSELoss())\n",
    "trainer.fit(train_loader= data_loader, num_epochs= 2)"
   ]
  },
  {
   "cell_type": "code",
   "execution_count": 9,
   "metadata": {},
   "outputs": [
    {
     "data": {
      "text/plain": [
       "{'train_loss': [0.12307136203162372, 0.10246795928105712], 'val_loss': []}"
      ]
     },
     "execution_count": 9,
     "metadata": {},
     "output_type": "execute_result"
    }
   ],
   "source": [
    "trainer.history"
   ]
  },
  {
   "cell_type": "code",
   "execution_count": 10,
   "metadata": {},
   "outputs": [
    {
     "name": "stdout",
     "output_type": "stream",
     "text": [
      "Model and training history saved to woah\n"
     ]
    }
   ],
   "source": [
    "trainer.save('woah')"
   ]
  },
  {
   "cell_type": "code",
   "execution_count": 11,
   "metadata": {},
   "outputs": [
    {
     "name": "stdout",
     "output_type": "stream",
     "text": [
      "Model and training history loaded from C:\\Users\\rvacher\\Downloads\\aml_project_2023\\src\\notebooks\\woah\n"
     ]
    }
   ],
   "source": [
    "trainer.load(r'C:\\Users\\rvacher\\Downloads\\aml_project_2023\\src\\notebooks\\woah')"
   ]
  },
  {
   "cell_type": "code",
   "execution_count": null,
   "metadata": {},
   "outputs": [],
   "source": []
  }
 ],
 "metadata": {
  "kernelspec": {
   "display_name": "Python 3",
   "language": "python",
   "name": "python3"
  },
  "language_info": {
   "codemirror_mode": {
    "name": "ipython",
    "version": 3
   },
   "file_extension": ".py",
   "mimetype": "text/x-python",
   "name": "python",
   "nbconvert_exporter": "python",
   "pygments_lexer": "ipython3",
   "version": "3.11.2"
  }
 },
 "nbformat": 4,
 "nbformat_minor": 2
}
