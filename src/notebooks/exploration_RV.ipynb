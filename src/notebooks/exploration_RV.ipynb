{
 "cells": [
  {
   "cell_type": "code",
   "execution_count": 1,
   "metadata": {},
   "outputs": [],
   "source": [
    "import torch\n",
    "import torch.nn as nn\n",
    "import torchvision.models as models\n",
    "\n",
    "def get_pretrained_regression_model(output_size):\n",
    "    # Load the pretrained ResNet18 model\n",
    "    pretrained_model = models.resnet18(weights='DEFAULT')\n",
    "    \n",
    "    # Modify the last fully connected layer for regression with custom output size\n",
    "    in_features = pretrained_model.fc.in_features\n",
    "    pretrained_model.fc = nn.Linear(in_features, output_size)\n",
    "    \n",
    "\n",
    "    return pretrained_model\n",
    "\n",
    "model = get_pretrained_regression_model(100)"
   ]
  },
  {
   "cell_type": "code",
   "execution_count": 2,
   "metadata": {},
   "outputs": [],
   "source": [
    "pretrained_model = models.resnet18(weights='DEFAULT')"
   ]
  },
  {
   "cell_type": "code",
   "execution_count": 8,
   "metadata": {},
   "outputs": [
    {
     "data": {
      "text/plain": [
       "(1, 1)"
      ]
     },
     "execution_count": 8,
     "metadata": {},
     "output_type": "execute_result"
    }
   ],
   "source": [
    "pretrained_model.avgpool.output_size"
   ]
  },
  {
   "cell_type": "code",
   "execution_count": 3,
   "metadata": {},
   "outputs": [],
   "source": [
    "from torch.utils.data import Dataset, DataLoader\n",
    "from sklearn.decomposition import PCA \n",
    "from torchvision import transforms\n",
    "from PIL import Image\n",
    "import numpy as np\n",
    "\n",
    "# Define an imaginary dataset class\n",
    "class ImaginaryDataset(Dataset):\n",
    "    def __init__(self, num_samples, transform=None, PCA = None):\n",
    "        self.num_samples = num_samples\n",
    "        self.transform = transform\n",
    "        self.PCA = PCA\n",
    "        self.data, self.output = self.generate_data()\n",
    "\n",
    "    def generate_data(self):\n",
    "        data = []\n",
    "        output_concat = []\n",
    "        for _ in range(self.num_samples):\n",
    "            # Generate random image data (3 channels, 128x128 pixels)\n",
    "            image = np.random.randint(0, 256, size=(3, 128, 128), dtype=np.uint8)\n",
    "            image = Image.fromarray(np.transpose(image, (1, 2, 0)))\n",
    "\n",
    "            # Generate random output array of length 1000\n",
    "            output = np.random.rand(1000)\n",
    "\n",
    "            data.append((image, output))\n",
    "            output_concat.append(output)\n",
    "        if self.PCA: self.PCA.fit(output_concat)\n",
    "        return data, output_concat\n",
    "    \n",
    "    def give_output(self):\n",
    "        return self.output\n",
    "    \n",
    "    def internal_PCA(self):\n",
    "        if self.PCA:\n",
    "            return self.PCA\n",
    "        else:\n",
    "            print(f'PCA is {self.PCA}')\n",
    "\n",
    "    def __len__(self):\n",
    "        return self.num_samples\n",
    "\n",
    "    def __getitem__(self, idx):\n",
    "        image, output = self.data[idx]\n",
    "\n",
    "        if self.transform:\n",
    "            image = self.transform(image)\n",
    "        if self.PCA:\n",
    "            output = self.PCA.transform(output.reshape(1, -1))\n",
    "        return image, torch.FloatTensor(output[0])\n",
    "\n",
    "# Define data transformations (you can customize these as needed)\n",
    "data_transform = transforms.Compose([\n",
    "    transforms.ToTensor(),\n",
    "])\n",
    "\n",
    "\n",
    "# Create an instance of the ImaginaryDataset\n",
    "num_samples = 1000  # You can adjust this based on your needs\n",
    "imaginary_dataset = ImaginaryDataset(num_samples, transform= data_transform, PCA = PCA(n_components= 100))\n",
    "\n",
    "\n",
    "# Create a DataLoader for batch processing\n",
    "batch_size = 32\n",
    "data_loader = DataLoader(imaginary_dataset, batch_size=batch_size, shuffle=True)"
   ]
  },
  {
   "cell_type": "code",
   "execution_count": 69,
   "metadata": {},
   "outputs": [],
   "source": [
    "class ImaginaryDataset(Dataset):\n",
    "    def __init__(self, images_list, outputs_list, transform=None, PCA=None):\n",
    "        self.num_samples = len(images_list)\n",
    "        self.transform = transform\n",
    "        self.PCA = PCA\n",
    "        self.data, self.output = self.load_data(images_list, outputs_list)\n",
    "\n",
    "    def load_data(self, images_list, outputs_list):\n",
    "        data = []\n",
    "        output_concat = []\n",
    "\n",
    "        for i in range(self.num_samples):\n",
    "            # Load image from the given list\n",
    "            image = Image.fromarray(images_list[i])\n",
    "\n",
    "            # Load output array from the given list\n",
    "            output = outputs_list[i]\n",
    "\n",
    "            data.append((image, output))\n",
    "            output_concat.append(output)\n",
    "\n",
    "        if self.PCA:\n",
    "            self.PCA.fit(output_concat)\n",
    "\n",
    "        return data, output_concat\n",
    "\n",
    "    def give_output(self):\n",
    "        return self.output\n",
    "\n",
    "    def internal_PCA(self):\n",
    "        if self.PCA:\n",
    "            return self.PCA\n",
    "        else:\n",
    "            print(f'PCA is {self.PCA}')\n",
    "\n",
    "    def __len__(self):\n",
    "        return self.num_samples\n",
    "\n",
    "    def __getitem__(self, idx):\n",
    "        image, output = self.data[idx]\n",
    "\n",
    "        if self.transform:\n",
    "            image = self.transform(image)\n",
    "        if self.PCA:\n",
    "            output = self.PCA.transform(output.reshape(1, -1))\n",
    "\n",
    "        return image, torch.FloatTensor(output[0])"
   ]
  },
  {
   "cell_type": "code",
   "execution_count": 68,
   "metadata": {},
   "outputs": [
    {
     "name": "stdout",
     "output_type": "stream",
     "text": [
      "PCA is None\n"
     ]
    }
   ],
   "source": [
    "Frozen_PCA = imaginary_dataset.internal_PCA()"
   ]
  },
  {
   "cell_type": "code",
   "execution_count": 65,
   "metadata": {},
   "outputs": [
    {
     "data": {
      "text/plain": [
       "1000"
      ]
     },
     "execution_count": 65,
     "metadata": {},
     "output_type": "execute_result"
    }
   ],
   "source": [
    "len(Frozen_PCA.inverse_transform(imaginary_dataset[0][1]))"
   ]
  },
  {
   "cell_type": "code",
   "execution_count": 72,
   "metadata": {},
   "outputs": [
    {
     "ename": "ImportError",
     "evalue": "attempted relative import with no known parent package",
     "output_type": "error",
     "traceback": [
      "\u001b[1;31m---------------------------------------------------------------------------\u001b[0m",
      "\u001b[1;31mImportError\u001b[0m                               Traceback (most recent call last)",
      "\u001b[1;32mc:\\Users\\rvacher\\Downloads\\aml_project_2023\\src\\notebooks\\exploration_RV.ipynb Cell 6\u001b[0m line \u001b[0;36m1\n\u001b[1;32m----> <a href='vscode-notebook-cell:/c%3A/Users/rvacher/Downloads/aml_project_2023/src/notebooks/exploration_RV.ipynb#X12sZmlsZQ%3D%3D?line=0'>1</a>\u001b[0m \u001b[39mfrom\u001b[39;00m \u001b[39m.\u001b[39;00m\u001b[39m.\u001b[39;00m\u001b[39mutils\u001b[39;00m \u001b[39mimport\u001b[39;00m yay\n",
      "\u001b[1;31mImportError\u001b[0m: attempted relative import with no known parent package"
     ]
    }
   ],
   "source": [
    "from ..utils import yay"
   ]
  },
  {
   "cell_type": "code",
   "execution_count": 7,
   "metadata": {},
   "outputs": [],
   "source": [
    "import torch\n",
    "\n",
    "class Trainer:\n",
    "    def __init__(self):\n",
    "        self.model = None\n",
    "        self.optimizer = None\n",
    "        self.loss_fn = None\n",
    "        self.train_loader = None\n",
    "        self.val_loader = None\n",
    "        self.history = {'train_loss': [], 'val_loss': []}\n",
    "\n",
    "    def compile(self, model, optimizer, learning_rate, loss_fn):\n",
    "        self.model = model\n",
    "        self.optimizer = optimizer(self.model.parameters(), lr=learning_rate)\n",
    "        self.loss_fn = loss_fn\n",
    "\n",
    "    def fit(self, num_epochs, train_loader, val_loader=None):\n",
    "        self.train_loader = train_loader\n",
    "        self.val_loader = val_loader\n",
    "\n",
    "        for epoch in range(num_epochs):\n",
    "            self.model.train()\n",
    "            total_loss = 0.0\n",
    "            for inputs, targets in self.train_loader:\n",
    "                self.optimizer.zero_grad()\n",
    "                outputs = self.model(inputs)\n",
    "                loss = self.loss_fn(outputs, targets)\n",
    "                loss.backward()\n",
    "                self.optimizer.step()\n",
    "                total_loss += loss.item()\n",
    "\n",
    "            avg_loss = total_loss / len(self.train_loader)\n",
    "            self.history['train_loss'].append(avg_loss)\n",
    "            print(f\"Epoch [{epoch + 1}/{num_epochs}], Training Loss: {avg_loss}\")\n",
    "\n",
    "            if self.val_loader is not None:\n",
    "                val_loss = self.evaluate(self.val_loader, \"Validation\")\n",
    "                self.history['val_loss'].append(val_loss)\n",
    "                print(f\"Validation Loss: {val_loss}\")\n",
    "\n",
    "    def evaluate(self, data_loader, mode=\"Test\"):\n",
    "        self.model.eval()\n",
    "        total_loss = 0.0\n",
    "        with torch.no_grad():\n",
    "            for inputs, targets in data_loader:\n",
    "                outputs = self.model(inputs)\n",
    "                loss = self.loss_fn(outputs, targets)\n",
    "                total_loss += loss.item()\n",
    "\n",
    "        avg_loss = total_loss / len(data_loader)\n",
    "        print(f\"{mode} Loss: {avg_loss}\")\n",
    "        return avg_loss\n",
    "\n",
    "    def save(self, filepath):\n",
    "        torch.save({\n",
    "            'model_state_dict': self.model.state_dict(),\n",
    "            'optimizer_state_dict': self.optimizer.state_dict(),\n",
    "            'history': self.history\n",
    "        }, filepath)\n",
    "        print(f\"Model and training history saved to {filepath}\")\n",
    "\n",
    "    def load(self, filepath):\n",
    "        checkpoint = torch.load(filepath)\n",
    "        self.model.load_state_dict(checkpoint['model_state_dict'])\n",
    "        self.optimizer.load_state_dict(checkpoint['optimizer_state_dict'])\n",
    "        self.history = checkpoint['history']\n",
    "        print(f\"Model and training history loaded from {filepath}\")\n"
   ]
  },
  {
   "cell_type": "code",
   "execution_count": 8,
   "metadata": {},
   "outputs": [
    {
     "name": "stdout",
     "output_type": "stream",
     "text": [
      "Epoch [1/2], Training Loss: 0.12307136203162372\n",
      "Epoch [2/2], Training Loss: 0.10246795928105712\n"
     ]
    }
   ],
   "source": [
    "trainer = Trainer()\n",
    "trainer.compile(model = model, optimizer= torch.optim.Adam, learning_rate= 0.0001, loss_fn= torch.nn.MSELoss())\n",
    "trainer.fit(train_loader= data_loader, num_epochs= 2)"
   ]
  },
  {
   "cell_type": "code",
   "execution_count": 9,
   "metadata": {},
   "outputs": [
    {
     "data": {
      "text/plain": [
       "{'train_loss': [0.12307136203162372, 0.10246795928105712], 'val_loss': []}"
      ]
     },
     "execution_count": 9,
     "metadata": {},
     "output_type": "execute_result"
    }
   ],
   "source": [
    "trainer.history"
   ]
  },
  {
   "cell_type": "code",
   "execution_count": 10,
   "metadata": {},
   "outputs": [
    {
     "name": "stdout",
     "output_type": "stream",
     "text": [
      "Model and training history saved to woah\n"
     ]
    }
   ],
   "source": [
    "trainer.save('woah')"
   ]
  },
  {
   "cell_type": "code",
   "execution_count": 11,
   "metadata": {},
   "outputs": [
    {
     "name": "stdout",
     "output_type": "stream",
     "text": [
      "Model and training history loaded from C:\\Users\\rvacher\\Downloads\\aml_project_2023\\src\\notebooks\\woah\n"
     ]
    }
   ],
   "source": [
    "trainer.load(r'C:\\Users\\rvacher\\Downloads\\aml_project_2023\\src\\notebooks\\woah')"
   ]
  },
  {
   "cell_type": "code",
   "execution_count": 1,
   "metadata": {},
   "outputs": [],
   "source": [
    "from torch.utils.data import Dataset, DataLoader\n",
    "from sklearn.decomposition import PCA \n",
    "from torchvision import transforms\n",
    "import numpy as np\n",
    "from PIL import Image\n",
    "import torch\n",
    "import os\n",
    "\n",
    "def load_images_from_folder(folder_path, start=None, end=None):\n",
    "    images = []\n",
    "    for filename in os.listdir(folder_path)[start:end]:\n",
    "        img_path = os.path.join(folder_path, filename)\n",
    "        img = Image.open(img_path)\n",
    "        img_array = np.array(img)\n",
    "        # .transpose((2, 0, 1))\n",
    "        images.append(img_array)\n",
    "    return images\n",
    "\n",
    "def load_subject_data(subject, index_start=None, index_end=None):\n",
    "    path = '../../data/algonauts/subj0' + str(subject)\n",
    "    data_lh = np.load(path + '/training_split/training_fmri/lh_training_fmri.npy')[index_start : index_end]\n",
    "    data_rh = np.load(path + '/training_split/training_fmri/rh_training_fmri.npy')[index_start : index_end]\n",
    "    folder_path = path+\"/training_split/training_images/\"\n",
    "    image_data = load_images_from_folder(folder_path, index_start, index_end)\n",
    "    return data_lh, data_rh, image_data\n",
    "\n",
    "class CustomDataset(Dataset):\n",
    "    def __init__(self, images_list, outputs_list, transform=None, PCA=None):\n",
    "        self.num_samples = len(images_list)\n",
    "        self.transform = transform\n",
    "        self.PCA = PCA\n",
    "        self.data, self.output = self.load_data(images_list, outputs_list)\n",
    "\n",
    "    def load_data(self, images_list, outputs_list):\n",
    "        data = []\n",
    "        output_concat = []\n",
    "\n",
    "        for i in range(self.num_samples):\n",
    "            # Load image from the given list\n",
    "            image = Image.fromarray(images_list[i])\n",
    "\n",
    "            # Load output array from the given list\n",
    "            output = outputs_list[i]\n",
    "\n",
    "            data.append((image, output))\n",
    "            output_concat.append(output)\n",
    "\n",
    "        if self.PCA:\n",
    "            self.PCA.fit(output_concat)\n",
    "\n",
    "        return data, output_concat\n",
    "\n",
    "    def give_output(self):\n",
    "        return self.output\n",
    "\n",
    "    def internal_PCA(self):\n",
    "        if self.PCA:\n",
    "            return self.PCA\n",
    "        else:\n",
    "            print(f'PCA is {self.PCA}')\n",
    "\n",
    "    def __len__(self):\n",
    "        return self.num_samples\n",
    "\n",
    "    def __getitem__(self, idx):\n",
    "        image, output = self.data[idx]\n",
    "\n",
    "        if self.transform:\n",
    "            image = self.transform(image)\n",
    "        if self.PCA:\n",
    "            output = self.PCA.transform(output.reshape(1, -1))\n",
    "\n",
    "        return image, torch.FloatTensor(output[0])"
   ]
  },
  {
   "cell_type": "code",
   "execution_count": 3,
   "metadata": {},
   "outputs": [],
   "source": [
    "import torch\n",
    "import torch.nn as nn\n",
    "import torchvision.models as models\n",
    "\n",
    "def get_pretrained_regression_model(output_size):\n",
    "    # Load the pretrained ResNet18 model\n",
    "    pretrained_model = models.resnet18(weights='DEFAULT')\n",
    "    \n",
    "    # Modify the last fully connected layer for regression with custom output size\n",
    "    in_features = pretrained_model.fc.in_features\n",
    "    pretrained_model.fc = nn.Linear(in_features, output_size)\n",
    "    \n",
    "    return pretrained_model\n",
    "\n",
    "class ResNet2HeadModel(nn.Module):\n",
    "    def __init__(self, output_size):\n",
    "        super(ResNet2HeadModel, self).__init__()\n",
    "        \n",
    "        # Load the pretrained ResNet18 model\n",
    "        self.pretrained_model = models.resnet18(weights='DEFAULT')\n",
    "        \n",
    "        # Remove the last fully connected layer\n",
    "        self.pretrained_model.fc = nn.Identity()\n",
    "        \n",
    "        # Add two new linear layers for regression with custom output size\n",
    "        self.fc1 = nn.Linear(self.pretrained_model.fc.in_features, output_size)\n",
    "        self.fc2 = nn.Linear(self.pretrained_model.fc.in_features, output_size)\n",
    "\n",
    "    def forward(self, x):\n",
    "        # Forward pass through the pretrained ResNet18 model\n",
    "        x = self.pretrained_model(x)\n",
    "        \n",
    "        # Forward pass through the first linear layer\n",
    "        output1 = self.fc1(x)\n",
    "        \n",
    "        # Forward pass through the second linear layer\n",
    "        output2 = self.fc2(x)\n",
    "        \n",
    "        return output1, output2\n",
    "\n",
    "class Trainer:\n",
    "    def __init__(self):\n",
    "        self.model = None\n",
    "        self.optimizer = None\n",
    "        self.loss_fn = None\n",
    "        self.train_loader = None\n",
    "        self.val_loader = None\n",
    "        self.history = {'train_loss': [], 'val_loss': []}\n",
    "\n",
    "    def compile(self, model, optimizer, learning_rate, loss_fn):\n",
    "        self.model = model\n",
    "        self.optimizer = optimizer(self.model.parameters(), lr=learning_rate)\n",
    "        self.loss_fn = loss_fn\n",
    "\n",
    "    def fit(self, num_epochs, train_loader, val_loader=None):\n",
    "        self.train_loader = train_loader\n",
    "        self.val_loader = val_loader\n",
    "\n",
    "        for epoch in range(num_epochs):\n",
    "            self.model.train()\n",
    "            total_loss = 0.0\n",
    "            for inputs, targets in self.train_loader:\n",
    "                self.optimizer.zero_grad()\n",
    "                outputs = self.model(inputs)\n",
    "                loss = self.loss_fn(outputs, targets)\n",
    "                loss.backward()\n",
    "                self.optimizer.step()\n",
    "                total_loss += loss.item()\n",
    "\n",
    "            avg_loss = total_loss / len(self.train_loader)\n",
    "            self.history['train_loss'].append(avg_loss)\n",
    "            print(f\"Epoch [{epoch + 1}/{num_epochs}], Training Loss: {avg_loss}\")\n",
    "\n",
    "            if self.val_loader is not None:\n",
    "                val_loss = self.evaluate(self.val_loader, \"Validation\")\n",
    "                self.history['val_loss'].append(val_loss)\n",
    "\n",
    "    def evaluate(self, data_loader, mode=\"Test\"):\n",
    "        self.model.eval()\n",
    "        total_loss = 0.0\n",
    "        with torch.no_grad():\n",
    "            for inputs, targets in data_loader:\n",
    "                outputs = self.model(inputs)\n",
    "                loss = self.loss_fn(outputs, targets)\n",
    "                total_loss += loss.item()\n",
    "\n",
    "        avg_loss = total_loss / len(data_loader)\n",
    "        print(f\"{mode} Loss: {avg_loss}\")\n",
    "        return avg_loss\n",
    "\n",
    "    def save(self, filepath):\n",
    "        torch.save({\n",
    "            'model_state_dict': self.model.state_dict(),\n",
    "            'optimizer_state_dict': self.optimizer.state_dict(),\n",
    "            'history': self.history\n",
    "        }, filepath)\n",
    "        print(f\"Model and training history saved to {filepath}\")\n",
    "\n",
    "    def load(self, filepath):\n",
    "        checkpoint = torch.load(filepath)\n",
    "        self.model.load_state_dict(checkpoint['model_state_dict'])\n",
    "        self.optimizer.load_state_dict(checkpoint['optimizer_state_dict'])\n",
    "        self.history = checkpoint['history']\n",
    "        print(f\"Model and training history loaded from {filepath}\")\n"
   ]
  },
  {
   "cell_type": "code",
   "execution_count": 1,
   "metadata": {},
   "outputs": [],
   "source": [
    "import torch"
   ]
  },
  {
   "cell_type": "code",
   "execution_count": 55,
   "metadata": {},
   "outputs": [],
   "source": [
    "x = (torch.rand(1, 3, 224, 224), [1])\n",
    "y = torch.rand(3, 3)\n"
   ]
  },
  {
   "cell_type": "code",
   "execution_count": 28,
   "metadata": {},
   "outputs": [
    {
     "data": {
      "text/plain": [
       "tensor([[[0.0507, 0.3095, 0.8162],\n",
       "         [0.7257, 0.2786, 0.1846],\n",
       "         [0.6987, 0.4213, 0.8925]],\n",
       "\n",
       "        [[0.4104, 0.5804, 0.5016],\n",
       "         [0.5148, 0.8272, 0.0081],\n",
       "         [0.1956, 0.8005, 0.2048]]])"
      ]
     },
     "execution_count": 28,
     "metadata": {},
     "output_type": "execute_result"
    }
   ],
   "source": [
    "torch.stack((x, y))"
   ]
  },
  {
   "cell_type": "code",
   "execution_count": 29,
   "metadata": {},
   "outputs": [
    {
     "data": {
      "text/plain": [
       "(tensor([[0.0507, 0.3095, 0.8162],\n",
       "         [0.7257, 0.2786, 0.1846],\n",
       "         [0.6987, 0.4213, 0.8925]]),\n",
       " tensor([[0.4104, 0.5804, 0.5016],\n",
       "         [0.5148, 0.8272, 0.0081],\n",
       "         [0.1956, 0.8005, 0.2048]]))"
      ]
     },
     "execution_count": 29,
     "metadata": {},
     "output_type": "execute_result"
    }
   ],
   "source": [
    "x, y"
   ]
  },
  {
   "cell_type": "code",
   "execution_count": 81,
   "metadata": {},
   "outputs": [],
   "source": [
    "import torch\n",
    "import torch.nn as nn\n",
    "import torchvision.models as models\n",
    "from tqdm import tqdm\n",
    "import torch.nn.functional as F\n",
    "\n",
    "class ResNet1HeadID(nn.Module):\n",
    "    def __init__(self, output_size):\n",
    "        super(ResNet1HeadID, self).__init__()\n",
    "        \n",
    "        # Load the pretrained ResNet18 model\n",
    "        self.pretrained_model = models.resnet18(weights='DEFAULT')\n",
    "        in_features = 512 # in_features for first layer after CNN\n",
    "\n",
    "        # Remove the last fully connected layer\n",
    "        self.pretrained_model = torch.nn.Sequential(*(list(self.pretrained_model.children())[:-1]))\n",
    "        \n",
    "        # Add shared layer\n",
    "        self.shared = nn.Linear(in_features, 256)\n",
    "\n",
    "        # Add subject-specific layers\n",
    "        self.sub1 = nn.Linear(in_features, 256)\n",
    "        self.sub2 = nn.Linear(in_features, 256)\n",
    "        self.sub3 = nn.Linear(in_features, 256)\n",
    "        self.sub4 = nn.Linear(in_features, 256)\n",
    "        self.sub5 = nn.Linear(in_features, 256)\n",
    "        self.sub6 = nn.Linear(in_features, 256)\n",
    "        self.sub7 = nn.Linear(in_features, 256)\n",
    "        self.sub8 = nn.Linear(in_features, 256)\n",
    "\n",
    "        # Combine shared and subject-specific layers\n",
    "        self.head = nn.Linear(256, output_size)\n",
    "\n",
    "    def forward(self, x):\n",
    "        # Extract image and subject ID from the input\n",
    "        if isinstance(x, tuple):\n",
    "            images, ids = x\n",
    "        else:\n",
    "            images = x\n",
    "\n",
    "        # Forward pass through the pretrained ResNet18 model\n",
    "        features = self.pretrained_model(images)\n",
    "\n",
    "        # Flatten the features\n",
    "        flat_features = torch.flatten(features, 1)\n",
    "\n",
    "        # Forward pass through the shared layer\n",
    "        shared = self.shared(flat_features)\n",
    "\n",
    "        # Forward pass through the subject-specific layers\n",
    "        subjects = []\n",
    "        # Loop through the batch, one sample at a time\n",
    "        for i in range(len(ids)):\n",
    "            if ids[i] == 1:\n",
    "                subject = self.sub1(flat_features[i])\n",
    "            elif ids[i] == 2:\n",
    "                subject = self.sub2(flat_features[i])\n",
    "            elif ids[i] == 3:\n",
    "                subject = self.sub3(flat_features[i])\n",
    "            elif ids[i] == 4:\n",
    "                subject = self.sub4(flat_features[i])\n",
    "            elif ids[i] == 5:\n",
    "                subject = self.sub5(flat_features[i])\n",
    "            elif ids[i] == 6:\n",
    "                subject = self.sub6(flat_features[i])\n",
    "            elif ids[i] == 7:\n",
    "                subject = self.sub7(flat_features[i])\n",
    "            elif ids[i] == 8:\n",
    "                subject = self.sub8(flat_features[i])\n",
    "            subjects.append(subject)\n",
    "        \n",
    "        # Add the shared and subject-specific layers\n",
    "        combined = shared + torch.stack(subjects)\n",
    "\n",
    "        # Forward pass through the first linear layer\n",
    "        output = self.head(combined)\n",
    "\n",
    "        return output"
   ]
  },
  {
   "cell_type": "code",
   "execution_count": 82,
   "metadata": {},
   "outputs": [],
   "source": [
    "mod = ResNet1HeadID(100)"
   ]
  },
  {
   "cell_type": "code",
   "execution_count": 80,
   "metadata": {},
   "outputs": [
    {
     "data": {
      "text/plain": [
       "tensor([[-0.0601,  0.1089, -0.1437,  0.1525, -0.0716, -0.0025, -0.4145, -0.2707,\n",
       "          0.4093, -0.3949,  0.5593, -0.3620, -0.1316,  0.4586,  0.2874,  0.2037,\n",
       "         -0.4205,  0.2724, -0.6329, -0.5341, -0.1427,  0.4858,  0.2596, -0.0081,\n",
       "          0.1731,  0.2704,  0.7015, -0.2749,  0.7827, -0.6425,  0.4789,  0.3481,\n",
       "         -0.3662,  0.0111, -0.3362, -0.0721, -0.1263,  0.2133,  0.2006,  0.0561,\n",
       "          0.1850, -0.0236,  0.5004,  0.3014,  0.1970,  0.2078, -0.1617, -0.0366,\n",
       "         -0.9960,  0.5667,  0.4975,  0.1157, -0.0297,  0.4084,  0.5416,  0.1940,\n",
       "         -0.4456, -0.1455,  0.3758, -0.4747,  0.1847,  0.2982,  0.3728,  0.0718,\n",
       "          0.6179,  0.4347,  0.4040,  0.0990,  0.0104,  0.2588, -0.3225,  0.2256,\n",
       "         -0.1816, -0.4968,  0.1319,  0.1268, -0.0192, -0.5750, -0.0277, -0.0844,\n",
       "          0.0207,  0.0605, -0.1199, -0.0619, -0.7332, -0.4250,  0.1274,  0.2061,\n",
       "         -0.5868,  0.5041,  0.3611, -0.1960,  0.1671, -0.2073, -0.1841,  0.4834,\n",
       "          0.3887,  0.7876,  0.4970,  0.5376]], grad_fn=<AddmmBackward0>)"
      ]
     },
     "execution_count": 80,
     "metadata": {},
     "output_type": "execute_result"
    }
   ],
   "source": [
    "mod(x)"
   ]
  },
  {
   "cell_type": "code",
   "execution_count": 83,
   "metadata": {},
   "outputs": [
    {
     "data": {
      "text/plain": [
       "tensor([[ 0.0044, -0.1590,  0.1581,  0.2252,  0.0524, -0.2350,  0.3702, -0.2658,\n",
       "         -0.1770,  0.1410, -0.2528,  0.4067,  0.2504,  0.4881,  0.5289, -0.0141,\n",
       "         -0.5821,  0.8918,  0.1390,  0.0808, -0.0523,  0.1360, -0.1956, -0.0195,\n",
       "         -0.3305,  0.4626, -0.1085, -0.6898,  0.0526,  0.4327,  0.4977,  0.2247,\n",
       "         -0.6784,  0.4940,  0.6999, -0.0847,  0.0211, -0.2923,  0.0829,  0.2277,\n",
       "         -0.9396, -0.0971, -0.1146, -0.1839,  0.2156,  1.0705,  0.0989,  0.1656,\n",
       "          0.5468,  0.0450, -0.7394, -0.4590, -0.1416, -0.7711,  0.0613,  0.0961,\n",
       "         -0.4866,  0.1559,  0.3784,  0.0847, -0.1762, -0.3044, -0.5761,  0.2785,\n",
       "         -0.2440, -0.2412,  0.2981, -0.2943, -0.1076,  0.2459, -0.3213, -0.0139,\n",
       "          0.0727, -1.0446, -0.1758, -0.9760, -0.3012,  0.0366, -0.1409, -1.1384,\n",
       "          0.0810,  0.3016, -0.2152,  0.2002, -0.0674,  0.2108, -0.2159,  0.5773,\n",
       "          0.8046, -0.6388,  0.5346,  0.2537,  0.8645,  0.0937, -0.5181,  0.0146,\n",
       "          0.2152, -0.5644,  0.1630, -0.1740]], grad_fn=<AddmmBackward0>)"
      ]
     },
     "execution_count": 83,
     "metadata": {},
     "output_type": "execute_result"
    }
   ],
   "source": [
    "mod(x)"
   ]
  },
  {
   "cell_type": "code",
   "execution_count": null,
   "metadata": {},
   "outputs": [],
   "source": []
  }
 ],
 "metadata": {
  "kernelspec": {
   "display_name": "Python 3",
   "language": "python",
   "name": "python3"
  },
  "language_info": {
   "codemirror_mode": {
    "name": "ipython",
    "version": 3
   },
   "file_extension": ".py",
   "mimetype": "text/x-python",
   "name": "python",
   "nbconvert_exporter": "python",
   "pygments_lexer": "ipython3",
   "version": "3.11.2"
  }
 },
 "nbformat": 4,
 "nbformat_minor": 2
}
