{
 "cells": [
  {
   "cell_type": "code",
   "execution_count": 8,
   "metadata": {},
   "outputs": [],
   "source": [
    "import torch\n",
    "import torch.nn as nn\n",
    "import torchvision.models as models\n",
    "\n",
    "def get_pretrained_regression_model(output_size):\n",
    "    # Load the pretrained ResNet18 model\n",
    "    pretrained_model = models.resnet18(weights='DEFAULT')\n",
    "    \n",
    "    # Modify the last fully connected layer for regression with custom output size\n",
    "    in_features = pretrained_model.fc.in_features\n",
    "    pretrained_model.fc = nn.Linear(in_features, output_size)\n",
    "    \n",
    "    return pretrained_model\n",
    "\n",
    "model = get_pretrained_regression_model(100)"
   ]
  },
  {
   "cell_type": "code",
   "execution_count": 67,
   "metadata": {},
   "outputs": [],
   "source": [
    "from torch.utils.data import Dataset, DataLoader\n",
    "from sklearn.decomposition import PCA \n",
    "from torchvision import transforms\n",
    "from PIL import Image\n",
    "import numpy as np\n",
    "\n",
    "# Define an imaginary dataset class\n",
    "class ImaginaryDataset(Dataset):\n",
    "    def __init__(self, num_samples, transform=None, PCA = None):\n",
    "        self.num_samples = num_samples\n",
    "        self.transform = transform\n",
    "        self.PCA = PCA\n",
    "        self.data, self.output = self.generate_data()\n",
    "\n",
    "    def generate_data(self):\n",
    "        data = []\n",
    "        output_concat = []\n",
    "        for _ in range(self.num_samples):\n",
    "            # Generate random image data (3 channels, 128x128 pixels)\n",
    "            image = np.random.randint(0, 256, size=(3, 128, 128), dtype=np.uint8)\n",
    "            image = Image.fromarray(np.transpose(image, (1, 2, 0)))\n",
    "\n",
    "            # Generate random output array of length 1000\n",
    "            output = np.random.rand(1000)\n",
    "\n",
    "            data.append((image, output))\n",
    "            output_concat.append(output)\n",
    "        if self.PCA: self.PCA.fit(output_concat)\n",
    "        return data, output_concat\n",
    "    \n",
    "    def give_output(self):\n",
    "        return self.output\n",
    "    \n",
    "    def internal_PCA(self):\n",
    "        if self.PCA:\n",
    "            return self.PCA\n",
    "        else:\n",
    "            print(f'PCA is {self.PCA}')\n",
    "\n",
    "    def __len__(self):\n",
    "        return self.num_samples\n",
    "\n",
    "    def __getitem__(self, idx):\n",
    "        image, output = self.data[idx]\n",
    "\n",
    "        if self.transform:\n",
    "            image = self.transform(image)\n",
    "        if self.PCA:\n",
    "            output = self.PCA.transform(output.reshape(1, -1))\n",
    "        return image, torch.FloatTensor(output[0])\n",
    "\n",
    "# Define data transformations (you can customize these as needed)\n",
    "data_transform = transforms.Compose([\n",
    "    transforms.ToTensor(),\n",
    "])\n",
    "\n",
    "\n",
    "# Create an instance of the ImaginaryDataset\n",
    "num_samples = 1000  # You can adjust this based on your needs\n",
    "imaginary_dataset = ImaginaryDataset(num_samples, transform= data_transform)\n",
    "\n",
    "\n",
    "# Create a DataLoader for batch processing\n",
    "# batch_size = 32\n",
    "# data_loader = DataLoader(imaginary_dataset, batch_size=batch_size, shuffle=True)"
   ]
  },
  {
   "cell_type": "code",
   "execution_count": 69,
   "metadata": {},
   "outputs": [],
   "source": [
    "class ImaginaryDataset(Dataset):\n",
    "    def __init__(self, images_list, outputs_list, transform=None, PCA=None):\n",
    "        self.num_samples = len(images_list)\n",
    "        self.transform = transform\n",
    "        self.PCA = PCA\n",
    "        self.data, self.output = self.load_data(images_list, outputs_list)\n",
    "\n",
    "    def load_data(self, images_list, outputs_list):\n",
    "        data = []\n",
    "        output_concat = []\n",
    "\n",
    "        for i in range(self.num_samples):\n",
    "            # Load image from the given list\n",
    "            image = Image.fromarray(images_list[i])\n",
    "\n",
    "            # Load output array from the given list\n",
    "            output = outputs_list[i]\n",
    "\n",
    "            data.append((image, output))\n",
    "            output_concat.append(output)\n",
    "\n",
    "        if self.PCA:\n",
    "            self.PCA.fit(output_concat)\n",
    "\n",
    "        return data, output_concat\n",
    "\n",
    "    def give_output(self):\n",
    "        return self.output\n",
    "\n",
    "    def internal_PCA(self):\n",
    "        if self.PCA:\n",
    "            return self.PCA\n",
    "        else:\n",
    "            print(f'PCA is {self.PCA}')\n",
    "\n",
    "    def __len__(self):\n",
    "        return self.num_samples\n",
    "\n",
    "    def __getitem__(self, idx):\n",
    "        image, output = self.data[idx]\n",
    "\n",
    "        if self.transform:\n",
    "            image = self.transform(image)\n",
    "        if self.PCA:\n",
    "            output = self.PCA.transform(output.reshape(1, -1))\n",
    "\n",
    "        return image, torch.FloatTensor(output[0])"
   ]
  },
  {
   "cell_type": "code",
   "execution_count": 68,
   "metadata": {},
   "outputs": [
    {
     "name": "stdout",
     "output_type": "stream",
     "text": [
      "PCA is None\n"
     ]
    }
   ],
   "source": [
    "Frozen_PCA = imaginary_dataset.internal_PCA()"
   ]
  },
  {
   "cell_type": "code",
   "execution_count": 65,
   "metadata": {},
   "outputs": [
    {
     "data": {
      "text/plain": [
       "1000"
      ]
     },
     "execution_count": 65,
     "metadata": {},
     "output_type": "execute_result"
    }
   ],
   "source": [
    "len(Frozen_PCA.inverse_transform(imaginary_dataset[0][1]))"
   ]
  },
  {
   "cell_type": "code",
   "execution_count": 72,
   "metadata": {},
   "outputs": [
    {
     "ename": "ImportError",
     "evalue": "attempted relative import with no known parent package",
     "output_type": "error",
     "traceback": [
      "\u001b[1;31m---------------------------------------------------------------------------\u001b[0m",
      "\u001b[1;31mImportError\u001b[0m                               Traceback (most recent call last)",
      "\u001b[1;32mc:\\Users\\rvacher\\Downloads\\aml_project_2023\\src\\notebooks\\exploration_RV.ipynb Cell 6\u001b[0m line \u001b[0;36m1\n\u001b[1;32m----> <a href='vscode-notebook-cell:/c%3A/Users/rvacher/Downloads/aml_project_2023/src/notebooks/exploration_RV.ipynb#X12sZmlsZQ%3D%3D?line=0'>1</a>\u001b[0m \u001b[39mfrom\u001b[39;00m \u001b[39m.\u001b[39;00m\u001b[39m.\u001b[39;00m\u001b[39mutils\u001b[39;00m \u001b[39mimport\u001b[39;00m yay\n",
      "\u001b[1;31mImportError\u001b[0m: attempted relative import with no known parent package"
     ]
    }
   ],
   "source": [
    "from ..utils import yay"
   ]
  },
  {
   "cell_type": "code",
   "execution_count": null,
   "metadata": {},
   "outputs": [],
   "source": []
  }
 ],
 "metadata": {
  "kernelspec": {
   "display_name": "Python 3",
   "language": "python",
   "name": "python3"
  },
  "language_info": {
   "codemirror_mode": {
    "name": "ipython",
    "version": 3
   },
   "file_extension": ".py",
   "mimetype": "text/x-python",
   "name": "python",
   "nbconvert_exporter": "python",
   "pygments_lexer": "ipython3",
   "version": "3.11.2"
  }
 },
 "nbformat": 4,
 "nbformat_minor": 2
}
